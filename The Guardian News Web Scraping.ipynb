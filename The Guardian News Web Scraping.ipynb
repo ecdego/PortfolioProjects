{
 "cells": [
  {
   "cell_type": "markdown",
   "id": "d4ceb297",
   "metadata": {},
   "source": [
    "# If working on this, put API key"
   ]
  },
  {
   "cell_type": "markdown",
   "id": "a189cfbb",
   "metadata": {},
   "source": [
    "# The Guardian Data Acquisition and Analysis\n",
    "Utilized The Guardian's API to acquire articles from 2020 - present, in the 'world' section where 'Philippines' has been mentioned, followed by a trend analysis of the newspaper's publication.\n",
    "\n",
    "Skills used:\n",
    "- used pandas, matplotlib and nltk libraries\n",
    "- acquiring data using API\n",
    "- tried a tiny bit of Natural Language Processing\n",
    "- EDA on The Guardian's articles\n",
    "\n",
    "Findings:\n",
    "- It was in **May 2022** that The Guardian published the most articles about the Philippines, possibly because of the PH elections.\n",
    "- The Guardian published the most Philippines-related articles in **2020**, compared to its succeeding years.\n",
    "- Most articles were under the **'World news'** section, followed distantly by the **'Global development'** section.\n",
    "- The top words used in the headlines are as follows: '**philippines**,' '**maria**,' '**marcos**,' '**china**,' '**coronavirus**,' and '**ressa**.' These could give us an idea of the topics The Guardian commonly covered about the Philippines.\n",
    "\n",
    "\n",
    "Data Acquisition adopted from Analyst Adithya's video (https://youtu.be/Nf1U62XxDmU?si=yq4TXr0USzKLca6S)"
   ]
  },
  {
   "cell_type": "code",
   "execution_count": 1,
   "id": "9dd1aa08",
   "metadata": {},
   "outputs": [],
   "source": [
    "# import libraries\n",
    "\n",
    "import pandas as pd\n",
    "import requests\n",
    "\n",
    "import matplotlib.pyplot as plt\n",
    "from nltk.corpus import stopwords\n",
    "from collections import Counter"
   ]
  },
  {
   "cell_type": "code",
   "execution_count": 101,
   "id": "1e38cd73",
   "metadata": {},
   "outputs": [],
   "source": [
    "# API key: here"
   ]
  },
  {
   "cell_type": "code",
   "execution_count": 2,
   "id": "7afba182",
   "metadata": {},
   "outputs": [],
   "source": [
    "url = 'https://content.guardianapis.com/world/philippines?from-date=2020-01-01&api-key=putHere&page=1'"
   ]
  },
  {
   "cell_type": "code",
   "execution_count": 3,
   "id": "be132b56",
   "metadata": {},
   "outputs": [
    {
     "name": "stdout",
     "output_type": "stream",
     "text": [
      "<Response [200]>\n"
     ]
    }
   ],
   "source": [
    "response = requests.get(url)\n",
    "print(response)"
   ]
  },
  {
   "cell_type": "code",
   "execution_count": 4,
   "id": "a15447f2",
   "metadata": {},
   "outputs": [
    {
     "name": "stdout",
     "output_type": "stream",
     "text": [
      "{'response': {'status': 'ok', 'userTier': 'developer', 'total': 228, 'startIndex': 1, 'pageSize': 10, 'currentPage': 1, 'pages': 23, 'orderBy': 'newest', 'tag': {'id': 'world/philippines', 'type': 'keyword', 'sectionId': 'world', 'sectionName': 'World news', 'webTitle': 'Philippines', 'webUrl': 'https://www.theguardian.com/world/philippines', 'apiUrl': 'https://content.guardianapis.com/world/philippines'}, 'results': [{'id': 'global-development/2023/oct/23/uae-to-investigate-recruitment-of-filipina-domestic-worker-who-died', 'type': 'article', 'sectionId': 'global-development', 'sectionName': 'Global development', 'webPublicationDate': '2023-10-23T15:51:53Z', 'webTitle': 'UAE to investigate recruitment of Filipina domestic worker who died', 'webUrl': 'https://www.theguardian.com/global-development/2023/oct/23/uae-to-investigate-recruitment-of-filipina-domestic-worker-who-died', 'apiUrl': 'https://content.guardianapis.com/global-development/2023/oct/23/uae-to-investigate-recruitment-of-filipina-domestic-worker-who-died', 'isHosted': False, 'pillarId': 'pillar/news', 'pillarName': 'News'}, {'id': 'global-development/2023/oct/19/vergie-tamfungan-filipina-migrant-worker-death-uae', 'type': 'article', 'sectionId': 'global-development', 'sectionName': 'Global development', 'webPublicationDate': '2023-10-19T06:00:46Z', 'webTitle': 'Lured to the UAE by bonuses and big money, what happened to Vergie Tamfungan?', 'webUrl': 'https://www.theguardian.com/global-development/2023/oct/19/vergie-tamfungan-filipina-migrant-worker-death-uae', 'apiUrl': 'https://content.guardianapis.com/global-development/2023/oct/19/vergie-tamfungan-filipina-migrant-worker-death-uae', 'isHosted': False, 'pillarId': 'pillar/news', 'pillarName': 'News'}, {'id': 'technology/2023/oct/18/x-twitter-1-dollar-annual-subscription-fee-new-users-elon-musk-new-zealand-nz-philippines', 'type': 'article', 'sectionId': 'technology', 'sectionName': 'Technology', 'webPublicationDate': '2023-10-18T02:31:54Z', 'webTitle': 'X, formerly Twitter, rolls out US$1 annual fee for new users in New Zealand and the Philippines', 'webUrl': 'https://www.theguardian.com/technology/2023/oct/18/x-twitter-1-dollar-annual-subscription-fee-new-users-elon-musk-new-zealand-nz-philippines', 'apiUrl': 'https://content.guardianapis.com/technology/2023/oct/18/x-twitter-1-dollar-annual-subscription-fee-new-users-elon-musk-new-zealand-nz-philippines', 'isHosted': False, 'pillarId': 'pillar/news', 'pillarName': 'News'}, {'id': 'world/2023/oct/13/ferdinand-marcos-jr-drops-philippines-holiday-marking-toppling-of-father', 'type': 'article', 'sectionId': 'world', 'sectionName': 'World news', 'webPublicationDate': '2023-10-13T11:20:09Z', 'webTitle': 'Ferdinand Marcos Jr drops Philippines holiday marking toppling of father', 'webUrl': 'https://www.theguardian.com/world/2023/oct/13/ferdinand-marcos-jr-drops-philippines-holiday-marking-toppling-of-father', 'apiUrl': 'https://content.guardianapis.com/world/2023/oct/13/ferdinand-marcos-jr-drops-philippines-holiday-marking-toppling-of-father', 'isHosted': False, 'pillarId': 'pillar/news', 'pillarName': 'News'}, {'id': 'world/2023/oct/04/oil-tanker-crash-philippine-fishermen-killed-south-china-sea-', 'type': 'article', 'sectionId': 'world', 'sectionName': 'World news', 'webPublicationDate': '2023-10-04T05:05:54Z', 'webTitle': 'Philippine fishers killed after collision with suspected oil tanker in South China Sea', 'webUrl': 'https://www.theguardian.com/world/2023/oct/04/oil-tanker-crash-philippine-fishermen-killed-south-china-sea-', 'apiUrl': 'https://content.guardianapis.com/world/2023/oct/04/oil-tanker-crash-philippine-fishermen-killed-south-china-sea-', 'isHosted': False, 'pillarId': 'pillar/news', 'pillarName': 'News'}, {'id': 'world/2023/sep/29/risk-of-miscalculation-rises-in-south-china-sea-as-beijing-ramps-up-aggressive-tactics', 'type': 'article', 'sectionId': 'world', 'sectionName': 'World news', 'webPublicationDate': '2023-09-29T01:57:18Z', 'webTitle': '‘Risk of miscalculation’ rises in South China Sea as Beijing ramps up aggressive tactics', 'webUrl': 'https://www.theguardian.com/world/2023/sep/29/risk-of-miscalculation-rises-in-south-china-sea-as-beijing-ramps-up-aggressive-tactics', 'apiUrl': 'https://content.guardianapis.com/world/2023/sep/29/risk-of-miscalculation-rises-in-south-china-sea-as-beijing-ramps-up-aggressive-tactics', 'isHosted': False, 'pillarId': 'pillar/news', 'pillarName': 'News'}, {'id': 'film/2023/sep/18/last-days-at-sea-review-evocative-documentary-about-a-boy-leaving-his-picturesque-childhood-behind', 'type': 'article', 'sectionId': 'film', 'sectionName': 'Film', 'webPublicationDate': '2023-09-18T06:00:21Z', 'webTitle': 'Last Days at Sea review – evocative documentary about a boy leaving his picturesque childhood behind', 'webUrl': 'https://www.theguardian.com/film/2023/sep/18/last-days-at-sea-review-evocative-documentary-about-a-boy-leaving-his-picturesque-childhood-behind', 'apiUrl': 'https://content.guardianapis.com/film/2023/sep/18/last-days-at-sea-review-evocative-documentary-about-a-boy-leaving-his-picturesque-childhood-behind', 'isHosted': False, 'pillarId': 'pillar/arts', 'pillarName': 'Arts'}, {'id': 'australia-news/live/2023/sep/08/australia-news-live-anthony-albanese-manila-philippines-china-xi-indigenous-voice-to-parliament-politics-cost-of-living', 'type': 'liveblog', 'sectionId': 'australia-news', 'sectionName': 'Australia news', 'webPublicationDate': '2023-09-08T08:06:20Z', 'webTitle': 'Marise Payne to quit parliament – as it happened', 'webUrl': 'https://www.theguardian.com/australia-news/live/2023/sep/08/australia-news-live-anthony-albanese-manila-philippines-china-xi-indigenous-voice-to-parliament-politics-cost-of-living', 'apiUrl': 'https://content.guardianapis.com/australia-news/live/2023/sep/08/australia-news-live-anthony-albanese-manila-philippines-china-xi-indigenous-voice-to-parliament-politics-cost-of-living', 'isHosted': False, 'pillarId': 'pillar/news', 'pillarName': 'News'}, {'id': 'world/2023/sep/08/british-australian-man-jailed-in-philippines-claims-authorities-fabricated-evidence', 'type': 'article', 'sectionId': 'world', 'sectionName': 'World news', 'webPublicationDate': '2023-09-08T05:26:14Z', 'webTitle': 'British-Australian man jailed in Philippines claims authorities fabricated evidence', 'webUrl': 'https://www.theguardian.com/world/2023/sep/08/british-australian-man-jailed-in-philippines-claims-authorities-fabricated-evidence', 'apiUrl': 'https://content.guardianapis.com/world/2023/sep/08/british-australian-man-jailed-in-philippines-claims-authorities-fabricated-evidence', 'isHosted': False, 'pillarId': 'pillar/news', 'pillarName': 'News'}, {'id': 'world/2023/sep/08/competition-over-the-south-china-sea-explained-in-30-seconds', 'type': 'article', 'sectionId': 'world', 'sectionName': 'World news', 'webPublicationDate': '2023-09-08T02:06:18Z', 'webTitle': 'Competition over the South China Sea explained in 30 seconds', 'webUrl': 'https://www.theguardian.com/world/2023/sep/08/competition-over-the-south-china-sea-explained-in-30-seconds', 'apiUrl': 'https://content.guardianapis.com/world/2023/sep/08/competition-over-the-south-china-sea-explained-in-30-seconds', 'isHosted': False, 'pillarId': 'pillar/news', 'pillarName': 'News'}], 'leadContent': [{'id': 'world/2023/oct/23/china-philippines-ships-boats-collision-south-china-sea-vessels-spratly-islands', 'type': 'article', 'sectionId': 'world', 'sectionName': 'World news', 'webPublicationDate': '2023-10-23T04:50:45Z', 'webTitle': 'The Philippines summons Chinese ambassador after two South China Sea collisions', 'webUrl': 'https://www.theguardian.com/world/2023/oct/23/china-philippines-ships-boats-collision-south-china-sea-vessels-spratly-islands', 'apiUrl': 'https://content.guardianapis.com/world/2023/oct/23/china-philippines-ships-boats-collision-south-china-sea-vessels-spratly-islands', 'tags': [], 'references': [], 'isHosted': False, 'pillarId': 'pillar/news', 'pillarName': 'News'}, {'id': 'world/2023/oct/13/ferdinand-marcos-jr-drops-philippines-holiday-marking-toppling-of-father', 'type': 'article', 'sectionId': 'world', 'sectionName': 'World news', 'webPublicationDate': '2023-10-13T11:20:09Z', 'webTitle': 'Ferdinand Marcos Jr drops Philippines holiday marking toppling of father', 'webUrl': 'https://www.theguardian.com/world/2023/oct/13/ferdinand-marcos-jr-drops-philippines-holiday-marking-toppling-of-father', 'apiUrl': 'https://content.guardianapis.com/world/2023/oct/13/ferdinand-marcos-jr-drops-philippines-holiday-marking-toppling-of-father', 'tags': [], 'references': [], 'isHosted': False, 'pillarId': 'pillar/news', 'pillarName': 'News'}, {'id': 'world/2023/oct/04/oil-tanker-crash-philippine-fishermen-killed-south-china-sea-', 'type': 'article', 'sectionId': 'world', 'sectionName': 'World news', 'webPublicationDate': '2023-10-04T05:05:54Z', 'webTitle': 'Philippine fishers killed after collision with suspected oil tanker in South China Sea', 'webUrl': 'https://www.theguardian.com/world/2023/oct/04/oil-tanker-crash-philippine-fishermen-killed-south-china-sea-', 'apiUrl': 'https://content.guardianapis.com/world/2023/oct/04/oil-tanker-crash-philippine-fishermen-killed-south-china-sea-', 'tags': [], 'references': [], 'isHosted': False, 'pillarId': 'pillar/news', 'pillarName': 'News'}, {'id': 'world/2023/sep/24/china-coast-guard-deploys-floating-barrier-to-cut-off-disputed-south-china-sea-shoal', 'type': 'article', 'sectionId': 'world', 'sectionName': 'World news', 'webPublicationDate': '2023-09-24T05:47:21Z', 'webTitle': 'China coast guard deploys ‘floating barrier’ to cut off disputed South China Sea shoal', 'webUrl': 'https://www.theguardian.com/world/2023/sep/24/china-coast-guard-deploys-floating-barrier-to-cut-off-disputed-south-china-sea-shoal', 'apiUrl': 'https://content.guardianapis.com/world/2023/sep/24/china-coast-guard-deploys-floating-barrier-to-cut-off-disputed-south-china-sea-shoal', 'tags': [], 'references': [], 'isHosted': False, 'pillarId': 'pillar/news', 'pillarName': 'News'}, {'id': 'world/2023/sep/08/british-australian-man-jailed-in-philippines-claims-authorities-fabricated-evidence', 'type': 'article', 'sectionId': 'world', 'sectionName': 'World news', 'webPublicationDate': '2023-09-08T05:26:14Z', 'webTitle': 'British-Australian man jailed in Philippines claims authorities fabricated evidence', 'webUrl': 'https://www.theguardian.com/world/2023/sep/08/british-australian-man-jailed-in-philippines-claims-authorities-fabricated-evidence', 'apiUrl': 'https://content.guardianapis.com/world/2023/sep/08/british-australian-man-jailed-in-philippines-claims-authorities-fabricated-evidence', 'tags': [], 'references': [], 'isHosted': False, 'pillarId': 'pillar/news', 'pillarName': 'News'}, {'id': 'world/2023/aug/17/philippines-callout-what-do-you-think-of-ferdinand-marcos-jrs-first-year-as-president', 'type': 'article', 'sectionId': 'world', 'sectionName': 'World news', 'webPublicationDate': '2023-08-17T00:14:08Z', 'webTitle': 'Philippines callout: what do you think of Ferdinand Marcos Jr’s first year as president?', 'webUrl': 'https://www.theguardian.com/world/2023/aug/17/philippines-callout-what-do-you-think-of-ferdinand-marcos-jrs-first-year-as-president', 'apiUrl': 'https://content.guardianapis.com/world/2023/aug/17/philippines-callout-what-do-you-think-of-ferdinand-marcos-jrs-first-year-as-president', 'tags': [], 'references': [], 'isHosted': False, 'pillarId': 'pillar/news', 'pillarName': 'News'}, {'id': 'world/2023/aug/01/filipino-couple-wade-through-flood-waters-on-wedding-day', 'type': 'article', 'sectionId': 'world', 'sectionName': 'World news', 'webPublicationDate': '2023-08-01T16:56:12Z', 'webTitle': 'Filipino couple wade through flood waters on wedding day', 'webUrl': 'https://www.theguardian.com/world/2023/aug/01/filipino-couple-wade-through-flood-waters-on-wedding-day', 'apiUrl': 'https://content.guardianapis.com/world/2023/aug/01/filipino-couple-wade-through-flood-waters-on-wedding-day', 'tags': [], 'references': [], 'isHosted': False, 'pillarId': 'pillar/news', 'pillarName': 'News'}, {'id': 'world/video/2023/aug/01/bride-wades-through-floodwaters-after-philippines-hit-by-typhoons-video-report', 'type': 'video', 'sectionId': 'world', 'sectionName': 'World news', 'webPublicationDate': '2023-08-01T12:10:54Z', 'webTitle': 'Bride wades through floodwaters after Philippines hit by typhoons – video report', 'webUrl': 'https://www.theguardian.com/world/video/2023/aug/01/bride-wades-through-floodwaters-after-philippines-hit-by-typhoons-video-report', 'apiUrl': 'https://content.guardianapis.com/world/video/2023/aug/01/bride-wades-through-floodwaters-after-philippines-hit-by-typhoons-video-report', 'tags': [], 'references': [], 'isHosted': False, 'pillarId': 'pillar/news', 'pillarName': 'News'}, {'id': 'world/video/2023/jul/28/typhoon-doksuri-ferry-capsizes-in-philippines-killing-dozens-video', 'type': 'video', 'sectionId': 'world', 'sectionName': 'World news', 'webPublicationDate': '2023-07-28T08:41:44Z', 'webTitle': 'Typhoon Doksuri: ferry capsizes in Philippines, killing dozens – video', 'webUrl': 'https://www.theguardian.com/world/video/2023/jul/28/typhoon-doksuri-ferry-capsizes-in-philippines-killing-dozens-video', 'apiUrl': 'https://content.guardianapis.com/world/video/2023/jul/28/typhoon-doksuri-ferry-capsizes-in-philippines-killing-dozens-video', 'tags': [], 'references': [], 'isHosted': False, 'pillarId': 'pillar/news', 'pillarName': 'News'}, {'id': 'world/2023/jul/28/philippines-ferry-capsizes-death-toll-typhoon-doksuri-winds', 'type': 'article', 'sectionId': 'world', 'sectionName': 'World news', 'webPublicationDate': '2023-07-28T02:18:22Z', 'webTitle': 'Philippines: 26 people killed after overloaded ferry capsizes amid Typhoon Doksuri winds', 'webUrl': 'https://www.theguardian.com/world/2023/jul/28/philippines-ferry-capsizes-death-toll-typhoon-doksuri-winds', 'apiUrl': 'https://content.guardianapis.com/world/2023/jul/28/philippines-ferry-capsizes-death-toll-typhoon-doksuri-winds', 'tags': [], 'references': [], 'isHosted': False, 'pillarId': 'pillar/news', 'pillarName': 'News'}]}}\n"
     ]
    }
   ],
   "source": [
    "# json\n",
    "\n",
    "x = response.json()\n",
    "print(x)"
   ]
  },
  {
   "cell_type": "code",
   "execution_count": 6,
   "id": "6d254af2",
   "metadata": {},
   "outputs": [],
   "source": [
    "# loop through all pages\n",
    "\n",
    "urllist = []\n",
    "\n",
    "for i in range(1,24): \n",
    "    a = 'https://content.guardianapis.com/world/philippines?from-date=2020-01-01&api-key=putHere&page='\n",
    "    b = str(i)\n",
    "    c= a+b\n",
    "    urllist.append(c)\n",
    "\n",
    "urllist;"
   ]
  },
  {
   "cell_type": "code",
   "execution_count": 7,
   "id": "1dbd486d",
   "metadata": {},
   "outputs": [],
   "source": [
    "# function to read all the urls in urllist into json\n",
    "\n",
    "info = []\n",
    "\n",
    "def json(url1):\n",
    "    response = requests.get(url1)\n",
    "    x = response.json()\n",
    "    info.append(x)"
   ]
  },
  {
   "cell_type": "code",
   "execution_count": 8,
   "id": "931c4082",
   "metadata": {},
   "outputs": [],
   "source": [
    "# run json(url1) function in all urls\n",
    "\n",
    "output = [json(url1) for url1 in urllist]"
   ]
  },
  {
   "cell_type": "code",
   "execution_count": 9,
   "id": "92e62f61",
   "metadata": {},
   "outputs": [],
   "source": [
    "info;"
   ]
  },
  {
   "cell_type": "code",
   "execution_count": 10,
   "id": "91a58e8b",
   "metadata": {},
   "outputs": [
    {
     "data": {
      "text/plain": [
       "23"
      ]
     },
     "execution_count": 10,
     "metadata": {},
     "output_type": "execute_result"
    }
   ],
   "source": [
    "# finding the total number of pages\n",
    "info[0]['response']['pages']"
   ]
  },
  {
   "cell_type": "code",
   "execution_count": 11,
   "id": "73dbad10",
   "metadata": {},
   "outputs": [
    {
     "data": {
      "text/plain": [
       "'UAE to investigate recruitment of Filipina domestic worker who died'"
      ]
     },
     "execution_count": 11,
     "metadata": {},
     "output_type": "execute_result"
    }
   ],
   "source": [
    "# getting the result of the latest article headline\n",
    "info[0]['response']['results'][0]['webTitle']"
   ]
  },
  {
   "cell_type": "code",
   "execution_count": 12,
   "id": "d5029442",
   "metadata": {},
   "outputs": [
    {
     "name": "stdout",
     "output_type": "stream",
     "text": [
      "done\n"
     ]
    }
   ],
   "source": [
    "# looping through all the articles\n",
    "\n",
    "finallist = []\n",
    "\n",
    "try:\n",
    "    for page in range(0,24):\n",
    "        for article in range (0,10):\n",
    "            value=dict(webtitle=info[page]['response']['results'][article]['webTitle'],\n",
    "            sectionname=info[page]['response']['results'][article]['sectionName'],\n",
    "            publicationdate=info[page]['response']['results'][article]['webPublicationDate'])\n",
    "            finallist.append(value)\n",
    "except IndexError:\n",
    "    print('done')\n"
   ]
  },
  {
   "cell_type": "code",
   "execution_count": 13,
   "id": "acbc40c6",
   "metadata": {},
   "outputs": [],
   "source": [
    "finallist;"
   ]
  },
  {
   "cell_type": "code",
   "execution_count": 14,
   "id": "3b0427d4",
   "metadata": {
    "scrolled": true
   },
   "outputs": [],
   "source": [
    "datanew = pd.DataFrame(finallist)\n",
    "datanew;"
   ]
  },
  {
   "cell_type": "code",
   "execution_count": 15,
   "id": "1a1e72c6",
   "metadata": {},
   "outputs": [],
   "source": [
    "# remove time in datetime\n",
    "datanew['publicationdate'] = datanew['publicationdate'].str.split('T').str[0]\n",
    "\n",
    "datanew;"
   ]
  },
  {
   "cell_type": "markdown",
   "id": "739f2362",
   "metadata": {},
   "source": [
    "# Analysis"
   ]
  },
  {
   "cell_type": "code",
   "execution_count": 101,
   "id": "7fecb8a6",
   "metadata": {},
   "outputs": [],
   "source": [
    "datanew['publicationdate'] = pd.to_datetime(datanew['publicationdate'])"
   ]
  },
  {
   "cell_type": "markdown",
   "id": "f047f201",
   "metadata": {},
   "source": [
    "## Published articles by year and month"
   ]
  },
  {
   "cell_type": "code",
   "execution_count": 102,
   "id": "cf013bbe",
   "metadata": {},
   "outputs": [
    {
     "name": "stdout",
     "output_type": "stream",
     "text": [
      "publicationdate  publicationdate\n",
      "2020             April               4\n",
      "                 August              5\n",
      "                 December            1\n",
      "                 February            4\n",
      "                 January             4\n",
      "                 July                7\n",
      "                 June               13\n",
      "                 March               5\n",
      "                 May                 6\n",
      "                 November            4\n",
      "                 October             4\n",
      "                 September           7\n",
      "2021             April               5\n",
      "                 August              2\n",
      "                 December            7\n",
      "                 January             4\n",
      "                 July                7\n",
      "                 June                2\n",
      "                 March               2\n",
      "                 May                 4\n",
      "                 November            4\n",
      "                 October            10\n",
      "                 September           8\n",
      "2022             April               4\n",
      "                 August              2\n",
      "                 December            2\n",
      "                 February            2\n",
      "                 January             3\n",
      "                 July                3\n",
      "                 June                5\n",
      "                 March               4\n",
      "                 May                23\n",
      "                 November            4\n",
      "                 October             5\n",
      "                 September           3\n",
      "2023             April               4\n",
      "                 August              7\n",
      "                 February            5\n",
      "                 January             3\n",
      "                 July                4\n",
      "                 June                3\n",
      "                 March               6\n",
      "                 May                 5\n",
      "                 October             2\n",
      "                 September           7\n",
      "Name: publicationdate, dtype: int64\n"
     ]
    }
   ],
   "source": [
    "# Group and count the number of articles by month and year\n",
    "month_count = datanew.groupby([datanew['publicationdate'].dt.year, datanew['publicationdate'].dt.month_name()])['publicationdate'].count()\n",
    "print(month_count)\n",
    "\n",
    "# note: February 2021 is missing"
   ]
  },
  {
   "cell_type": "code",
   "execution_count": 104,
   "id": "7a78aa89",
   "metadata": {},
   "outputs": [
    {
     "data": {
      "image/png": "[encoded data removed]",
      "text/plain": [
       "<Figure size 640x480 with 1 Axes>"
      ]
     },
     "metadata": {},
     "output_type": "display_data"
    }
   ],
   "source": [
    "month_count = datanew.groupby([datanew['publicationdate'].dt.year, datanew['publicationdate'].dt.month_name()])['publicationdate'].count()\n",
    "\n",
    "# Unstack the result to make it suitable for line plotting\n",
    "month_counts_unstacked = month_count.unstack(0)\n",
    "\n",
    "# Get a list of all months for x-axis labels\n",
    "all_months = ['January', 'February', 'March', 'April', 'May', 'June', 'July', 'August', 'September', 'October', 'November', 'December']\n",
    "\n",
    "# Create a line graph for each year, ensuring proper alignment with x-ticks\n",
    "years = month_counts_unstacked.columns\n",
    "for year in years:\n",
    "    plt.plot(all_months, month_counts_unstacked[year].reindex(all_months, fill_value=0), label=year)\n",
    "\n",
    "# Labels and title\n",
    "plt.xlabel('Month')\n",
    "plt.ylabel('Number of Articles')\n",
    "plt.title('Published Articles for Each Year')\n",
    "\n",
    "# Show the legend\n",
    "plt.legend(title='Year')\n",
    "plt.xticks(rotation=45)\n",
    "plt.show()"
   ]
  },
  {
   "cell_type": "markdown",
   "id": "b753cdbb",
   "metadata": {},
   "source": [
    "## Total articles published per year"
   ]
  },
  {
   "cell_type": "code",
   "execution_count": 105,
   "id": "7210c780",
   "metadata": {},
   "outputs": [
    {
     "name": "stdout",
     "output_type": "stream",
     "text": [
      "2020    64\n",
      "2022    60\n",
      "2021    55\n",
      "2023    46\n",
      "Name: publicationdate, dtype: int64\n"
     ]
    }
   ],
   "source": [
    "year_counts = datanew['publicationdate'].dt.year.value_counts()\n",
    "\n",
    "print(year_counts)"
   ]
  },
  {
   "cell_type": "code",
   "execution_count": 106,
   "id": "336bcf69",
   "metadata": {},
   "outputs": [
    {
     "data": {
      "text/plain": [
       "Text(0.5, 1.0, 'Yearly Occurrences')"
      ]
     },
     "execution_count": 106,
     "metadata": {},
     "output_type": "execute_result"
    },
    {
     "data": {
      "image/png": "[encoded data removed]",
      "text/plain": [
       "<Figure size 640x480 with 1 Axes>"
      ]
     },
     "metadata": {},
     "output_type": "display_data"
    }
   ],
   "source": [
    "# bar graph of result\n",
    "\n",
    "plt.bar(year_counts.index, year_counts.values)\n",
    "\n",
    "# set x-axis (years) to int\n",
    "plt.xticks(year_counts.index.astype(int))\n",
    "\n",
    "# labels\n",
    "plt.xlabel('Year')\n",
    "plt.ylabel('Number of Articles')\n",
    "plt.title('Yearly Occurrences')"
   ]
  },
  {
   "cell_type": "markdown",
   "id": "cace286a",
   "metadata": {},
   "source": [
    "## Total articles published per year"
   ]
  },
  {
   "cell_type": "code",
   "execution_count": 107,
   "id": "db824c9e",
   "metadata": {},
   "outputs": [
    {
     "name": "stdout",
     "output_type": "stream",
     "text": [
      "5     38\n",
      "9     25\n",
      "6     23\n",
      "10    21\n",
      "7     21\n",
      "4     17\n",
      "3     17\n",
      "8     16\n",
      "1     14\n",
      "11    12\n",
      "2     11\n",
      "12    10\n",
      "Name: publicationdate, dtype: int64\n"
     ]
    }
   ],
   "source": [
    "month_counts = datanew['publicationdate'].dt.month.value_counts()\n",
    "\n",
    "print(month_counts)"
   ]
  },
  {
   "cell_type": "code",
   "execution_count": 108,
   "id": "5f042320",
   "metadata": {},
   "outputs": [
    {
     "data": {
      "image/png": "[encoded data removed]",
      "text/plain": [
       "<Figure size 640x480 with 1 Axes>"
      ]
     },
     "metadata": {},
     "output_type": "display_data"
    }
   ],
   "source": [
    "# bar graph of result\n",
    "\n",
    "plt.bar(month_counts.index, month_counts.values)\n",
    "\n",
    "# set x-axis (months) to int\n",
    "plt.xticks(month_counts.index.astype(int))\n",
    "\n",
    "plt.xticks(range(1, 13), month_counts.values) \n",
    "\n",
    "# Set x-axis (months) labels to month names\n",
    "month_names = ['January', 'February', 'March', 'April', 'May', 'June', 'July', 'August', 'September', 'October', 'November', 'December']\n",
    "plt.xticks(range(1, 13), month_names, rotation=45)  # Rotate labels for readability\n",
    "\n",
    "# Labels\n",
    "plt.xlabel('Month')\n",
    "plt.ylabel('Number of Articles')\n",
    "plt.title('Monthly Occurrences')\n",
    "\n",
    "# Show the plot\n",
    "plt.show()"
   ]
  },
  {
   "cell_type": "markdown",
   "id": "768c1bb5",
   "metadata": {},
   "source": [
    "## Average articles published per month"
   ]
  },
  {
   "cell_type": "code",
   "execution_count": 109,
   "id": "c2fd8269",
   "metadata": {},
   "outputs": [
    {
     "name": "stdout",
     "output_type": "stream",
     "text": [
      "5     38.0\n",
      "9     25.0\n",
      "6     23.0\n",
      "7     21.0\n",
      "10    21.0\n",
      "3     17.0\n",
      "4     17.0\n",
      "8     16.0\n",
      "1     14.0\n",
      "11    12.0\n",
      "2     11.0\n",
      "12    10.0\n",
      "Name: publicationdate, dtype: float64\n"
     ]
    }
   ],
   "source": [
    "# Calculate the average occurrences of each month across all years\n",
    "avg_month_count = month_counts.groupby(level=0).mean().sort_values(ascending=False)\n",
    "\n",
    "print(avg_month_count)"
   ]
  },
  {
   "cell_type": "code",
   "execution_count": 30,
   "id": "30f0849c",
   "metadata": {},
   "outputs": [
    {
     "data": {
      "text/html": [
       "<div>\n",
       "<style scoped>\n",
       "    .dataframe tbody tr th:only-of-type {\n",
       "        vertical-align: middle;\n",
       "    }\n",
       "\n",
       "    .dataframe tbody tr th {\n",
       "        vertical-align: top;\n",
       "    }\n",
       "\n",
       "    .dataframe thead th {\n",
       "        text-align: right;\n",
       "    }\n",
       "</style>\n",
       "<table border=\"1\" class=\"dataframe\">\n",
       "  <thead>\n",
       "    <tr style=\"text-align: right;\">\n",
       "      <th></th>\n",
       "      <th>webtitle</th>\n",
       "      <th>sectionname</th>\n",
       "      <th>publicationdate</th>\n",
       "    </tr>\n",
       "  </thead>\n",
       "  <tbody>\n",
       "    <tr>\n",
       "      <th>0</th>\n",
       "      <td>Ferdinand Marcos Jr drops Philippines holiday ...</td>\n",
       "      <td>World news</td>\n",
       "      <td>2023-10-13</td>\n",
       "    </tr>\n",
       "    <tr>\n",
       "      <th>1</th>\n",
       "      <td>Philippine fishers killed after collision with...</td>\n",
       "      <td>World news</td>\n",
       "      <td>2023-10-04</td>\n",
       "    </tr>\n",
       "    <tr>\n",
       "      <th>2</th>\n",
       "      <td>‘Risk of miscalculation’ rises in South China ...</td>\n",
       "      <td>World news</td>\n",
       "      <td>2023-09-29</td>\n",
       "    </tr>\n",
       "    <tr>\n",
       "      <th>3</th>\n",
       "      <td>Last Days at Sea review – evocative documentar...</td>\n",
       "      <td>Film</td>\n",
       "      <td>2023-09-18</td>\n",
       "    </tr>\n",
       "    <tr>\n",
       "      <th>4</th>\n",
       "      <td>Marise Payne to quit parliament – as it happened</td>\n",
       "      <td>Australia news</td>\n",
       "      <td>2023-09-08</td>\n",
       "    </tr>\n",
       "    <tr>\n",
       "      <th>...</th>\n",
       "      <td>...</td>\n",
       "      <td>...</td>\n",
       "      <td>...</td>\n",
       "    </tr>\n",
       "    <tr>\n",
       "      <th>220</th>\n",
       "      <td>Philippines races to trace those linked to fir...</td>\n",
       "      <td>Global development</td>\n",
       "      <td>2020-02-02</td>\n",
       "    </tr>\n",
       "    <tr>\n",
       "      <th>221</th>\n",
       "      <td>'Bleak domineering vision': Amnesty says human...</td>\n",
       "      <td>World news</td>\n",
       "      <td>2020-01-29</td>\n",
       "    </tr>\n",
       "    <tr>\n",
       "      <th>222</th>\n",
       "      <td>Quezon's Game review – second world war refuge...</td>\n",
       "      <td>Film</td>\n",
       "      <td>2020-01-29</td>\n",
       "    </tr>\n",
       "    <tr>\n",
       "      <th>223</th>\n",
       "      <td>Weatherwatch: storms and violent tornadoes str...</td>\n",
       "      <td>News</td>\n",
       "      <td>2020-01-15</td>\n",
       "    </tr>\n",
       "    <tr>\n",
       "      <th>224</th>\n",
       "      <td>More than 300 human rights activists were kill...</td>\n",
       "      <td>Law</td>\n",
       "      <td>2020-01-14</td>\n",
       "    </tr>\n",
       "  </tbody>\n",
       "</table>\n",
       "<p>225 rows × 3 columns</p>\n",
       "</div>"
      ],
      "text/plain": [
       "                                              webtitle         sectionname  \\\n",
       "0    Ferdinand Marcos Jr drops Philippines holiday ...          World news   \n",
       "1    Philippine fishers killed after collision with...          World news   \n",
       "2    ‘Risk of miscalculation’ rises in South China ...          World news   \n",
       "3    Last Days at Sea review – evocative documentar...                Film   \n",
       "4     Marise Payne to quit parliament – as it happened      Australia news   \n",
       "..                                                 ...                 ...   \n",
       "220  Philippines races to trace those linked to fir...  Global development   \n",
       "221  'Bleak domineering vision': Amnesty says human...          World news   \n",
       "222  Quezon's Game review – second world war refuge...                Film   \n",
       "223  Weatherwatch: storms and violent tornadoes str...                News   \n",
       "224  More than 300 human rights activists were kill...                 Law   \n",
       "\n",
       "    publicationdate  \n",
       "0        2023-10-13  \n",
       "1        2023-10-04  \n",
       "2        2023-09-29  \n",
       "3        2023-09-18  \n",
       "4        2023-09-08  \n",
       "..              ...  \n",
       "220      2020-02-02  \n",
       "221      2020-01-29  \n",
       "222      2020-01-29  \n",
       "223      2020-01-15  \n",
       "224      2020-01-14  \n",
       "\n",
       "[225 rows x 3 columns]"
      ]
     },
     "execution_count": 30,
     "metadata": {},
     "output_type": "execute_result"
    }
   ],
   "source": [
    "datanew"
   ]
  },
  {
   "cell_type": "markdown",
   "id": "609fb91a",
   "metadata": {},
   "source": [
    "## Total sections breakdown"
   ]
  },
  {
   "cell_type": "code",
   "execution_count": 26,
   "id": "a042931e",
   "metadata": {},
   "outputs": [
    {
     "name": "stdout",
     "output_type": "stream",
     "text": [
      "World news            132\n",
      "Global development     32\n",
      "Environment            13\n",
      "Film                   11\n",
      "Australia news         10\n",
      "Business                4\n",
      "Opinion                 4\n",
      "Books                   3\n",
      "News                    3\n",
      "Technology              2\n",
      "Society                 2\n",
      "US news                 2\n",
      "UK news                 1\n",
      "Art and design          1\n",
      "Football                1\n",
      "Weather                 1\n",
      "Music                   1\n",
      "Sport                   1\n",
      "Law                     1\n",
      "Name: sectionname, dtype: int64\n"
     ]
    }
   ],
   "source": [
    "section_counts = datanew['sectionname'].value_counts()\n",
    "print(section_counts)"
   ]
  },
  {
   "cell_type": "markdown",
   "id": "16ac166f",
   "metadata": {},
   "source": [
    "# Commonly used words in headline"
   ]
  },
  {
   "cell_type": "code",
   "execution_count": 110,
   "id": "e6bdf692",
   "metadata": {},
   "outputs": [
    {
     "name": "stdout",
     "output_type": "stream",
     "text": [
      "[('philippines', 82), ('maria', 21), ('marcos', 17), ('china', 14), ('coronavirus', 14), ('ressa', 12), ('filipino', 11), ('nobel', 11), ('philippine', 10), ('covid', 10)]\n"
     ]
    }
   ],
   "source": [
    "# customize words to filter out\n",
    "cus_stopwords = stopwords.words('english') + ['says', 'say']\n",
    "\n",
    "# function to preprocess and count words\n",
    "def words_count(text):\n",
    "    # split webtitle into words\n",
    "    words = text.split()\n",
    "\n",
    "    # remove punctuations, covert to lowercase\n",
    "    words = [word.strip(' .,-–!?(){}[]\"\\'/').lower() for word in words]\n",
    "    \n",
    "    # remove stopwords\n",
    "    words = [word for word in words if word not in cus_stopwords]\n",
    "    \n",
    "    # filter empty strings\n",
    "    words = [word for word in words if word]\n",
    "    \n",
    "    # count words\n",
    "    word_count = Counter(words)\n",
    "    \n",
    "    return word_count\n",
    "\n",
    "# apply function\n",
    "words_count = datanew['webtitle'].apply(words_count)\n",
    "\n",
    "# combine word counts from all rows\n",
    "combined_counts = words_count.sum()\n",
    "\n",
    "# get most common words\n",
    "common_words = combined_counts.most_common()\n",
    "\n",
    "# print\n",
    "print(common_words[:10])"
   ]
  },
  {
   "cell_type": "code",
   "execution_count": 111,
   "id": "f8f14a0a",
   "metadata": {},
   "outputs": [
    {
     "data": {
      "text/html": [
       "<div>\n",
       "<style scoped>\n",
       "    .dataframe tbody tr th:only-of-type {\n",
       "        vertical-align: middle;\n",
       "    }\n",
       "\n",
       "    .dataframe tbody tr th {\n",
       "        vertical-align: top;\n",
       "    }\n",
       "\n",
       "    .dataframe thead th {\n",
       "        text-align: right;\n",
       "    }\n",
       "</style>\n",
       "<table border=\"1\" class=\"dataframe\">\n",
       "  <thead>\n",
       "    <tr style=\"text-align: right;\">\n",
       "      <th></th>\n",
       "      <th>0</th>\n",
       "      <th>1</th>\n",
       "    </tr>\n",
       "  </thead>\n",
       "  <tbody>\n",
       "    <tr>\n",
       "      <th>0</th>\n",
       "      <td>philippines</td>\n",
       "      <td>82</td>\n",
       "    </tr>\n",
       "    <tr>\n",
       "      <th>1</th>\n",
       "      <td>maria</td>\n",
       "      <td>21</td>\n",
       "    </tr>\n",
       "    <tr>\n",
       "      <th>2</th>\n",
       "      <td>marcos</td>\n",
       "      <td>17</td>\n",
       "    </tr>\n",
       "    <tr>\n",
       "      <th>3</th>\n",
       "      <td>china</td>\n",
       "      <td>14</td>\n",
       "    </tr>\n",
       "    <tr>\n",
       "      <th>4</th>\n",
       "      <td>coronavirus</td>\n",
       "      <td>14</td>\n",
       "    </tr>\n",
       "    <tr>\n",
       "      <th>5</th>\n",
       "      <td>ressa</td>\n",
       "      <td>12</td>\n",
       "    </tr>\n",
       "    <tr>\n",
       "      <th>6</th>\n",
       "      <td>filipino</td>\n",
       "      <td>11</td>\n",
       "    </tr>\n",
       "    <tr>\n",
       "      <th>7</th>\n",
       "      <td>nobel</td>\n",
       "      <td>11</td>\n",
       "    </tr>\n",
       "    <tr>\n",
       "      <th>8</th>\n",
       "      <td>philippine</td>\n",
       "      <td>10</td>\n",
       "    </tr>\n",
       "    <tr>\n",
       "      <th>9</th>\n",
       "      <td>covid</td>\n",
       "      <td>10</td>\n",
       "    </tr>\n",
       "    <tr>\n",
       "      <th>10</th>\n",
       "      <td>global</td>\n",
       "      <td>10</td>\n",
       "    </tr>\n",
       "    <tr>\n",
       "      <th>11</th>\n",
       "      <td>review</td>\n",
       "      <td>9</td>\n",
       "    </tr>\n",
       "    <tr>\n",
       "      <th>12</th>\n",
       "      <td>president</td>\n",
       "      <td>9</td>\n",
       "    </tr>\n",
       "    <tr>\n",
       "      <th>13</th>\n",
       "      <td>lockdown</td>\n",
       "      <td>9</td>\n",
       "    </tr>\n",
       "    <tr>\n",
       "      <th>14</th>\n",
       "      <td>new</td>\n",
       "      <td>8</td>\n",
       "    </tr>\n",
       "    <tr>\n",
       "      <th>15</th>\n",
       "      <td>uk</td>\n",
       "      <td>8</td>\n",
       "    </tr>\n",
       "    <tr>\n",
       "      <th>16</th>\n",
       "      <td>world</td>\n",
       "      <td>8</td>\n",
       "    </tr>\n",
       "    <tr>\n",
       "      <th>17</th>\n",
       "      <td>election</td>\n",
       "      <td>8</td>\n",
       "    </tr>\n",
       "    <tr>\n",
       "      <th>18</th>\n",
       "      <td>ferdinand</td>\n",
       "      <td>7</td>\n",
       "    </tr>\n",
       "    <tr>\n",
       "      <th>19</th>\n",
       "      <td>jr</td>\n",
       "      <td>7</td>\n",
       "    </tr>\n",
       "  </tbody>\n",
       "</table>\n",
       "</div>"
      ],
      "text/plain": [
       "              0   1\n",
       "0   philippines  82\n",
       "1         maria  21\n",
       "2        marcos  17\n",
       "3         china  14\n",
       "4   coronavirus  14\n",
       "5         ressa  12\n",
       "6      filipino  11\n",
       "7         nobel  11\n",
       "8    philippine  10\n",
       "9         covid  10\n",
       "10       global  10\n",
       "11       review   9\n",
       "12    president   9\n",
       "13     lockdown   9\n",
       "14          new   8\n",
       "15           uk   8\n",
       "16        world   8\n",
       "17     election   8\n",
       "18    ferdinand   7\n",
       "19           jr   7"
      ]
     },
     "execution_count": 111,
     "metadata": {},
     "output_type": "execute_result"
    }
   ],
   "source": [
    "top_words = pd.DataFrame(common_words[:20])\n",
    "\n",
    "top_words"
   ]
  }
 ],
 "metadata": {
  "kernelspec": {
   "display_name": "Python 3 (ipykernel)",
   "language": "python",
   "name": "python3"
  },
  "language_info": {
   "codemirror_mode": {
    "name": "ipython",
    "version": 3
   },
   "file_extension": ".py",
   "mimetype": "text/x-python",
   "name": "python",
   "nbconvert_exporter": "python",
   "pygments_lexer": "ipython3",
   "version": "3.9.13"
  }
 },
 "nbformat": 4,
 "nbformat_minor": 5
}
