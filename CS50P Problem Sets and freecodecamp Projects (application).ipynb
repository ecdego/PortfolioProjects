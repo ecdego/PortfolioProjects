{
 "cells": [
  {
   "cell_type": "markdown",
   "id": "1f4d479e",
   "metadata": {},
   "source": [
    "# **CS50P PROBLEM SETS and freecodecamp PROJECTS**\n",
    "Here are a few of the problem sets and projects that I did from CS50 and freecodecamp's Scientific Computing with Python"
   ]
  },
  {
   "cell_type": "markdown",
   "id": "876a4dce",
   "metadata": {},
   "source": [
    "# freecodecamp PROJECTS\n",
    "## Scientific Computing with Python\n",
    "\n",
    "## ARITHMETIC FORMATTER\n",
    "\n",
    "Create a function that receives a list of strings that are arithmetic problems and returns the problems arranged vertically and side-by-side. The function should optionally take a second argument. When the second argument is set to True, the answers should be displayed.\n",
    "\n",
    "**Rules**\n",
    "The function will return the correct conversion if the supplied problems are properly formatted, otherwise, it will return a string that describes an error that is meaningful to the user.\n",
    "\n",
    "*Situations that will return an error:*\n",
    "- If there are too many problems supplied to the function. The limit is five, anything more will return: Error: Too many problems.\n",
    "- The appropriate operators the function will accept are addition and subtraction. Multiplication and division will return an error. Other operators not mentioned in this bullet point will not need to be tested. The error returned will be: Error: Operator must be '+' or '-'.\n",
    "- Each number (operand) should only contain digits. Otherwise, the function will return: Error: Numbers must only contain digits.\n",
    "- Each operand (aka number on each side of the operator) has a max of four digits in width. Otherwise, the error string returned will be: Error: Numbers cannot be more than four digits.\n",
    "\n",
    "If the user supplied the correct format of problems, the conversion you return will follow these rules:\n",
    "- There should be a single space between the operator and the longest of the two operands, the operator will be on the same line as the second operand, both operands will be in the same order as provided (the first will be the top one and the second will be the bottom).\n",
    "- Numbers should be right-aligned.\n",
    "- There should be four spaces between each problem.\n",
    "- There should be dashes at the bottom of each problem. The dashes should run along the entire length of each problem individually. (The example above shows what this should look like.)\n",
    "\n",
    "https://www.freecodecamp.org/learn/scientific-computing-with-python/scientific-computing-with-python-projects/arithmetic-formatter"
   ]
  },
  {
   "cell_type": "code",
   "execution_count": null,
   "id": "7a96f99d",
   "metadata": {},
   "outputs": [],
   "source": [
    "def main():\n",
    "\n",
    "  print(arithmetic_arranger([\"32 + 698\", \"3801 - 2\", \"45 + 43\", \"123 + 49\"]))\n",
    "\n",
    "def arithmetic_arranger(problems, answer=False):\n",
    "  if len(problems) > 5:\n",
    "    return \"Error: Too many problems.\"\n",
    "\n",
    "  v_eq = []\n",
    "  for value in problems:\n",
    "    op1, operator, op2 = value.split()\n",
    "    \n",
    "    if operator not in ['+', '-']: \n",
    "      return \"Error: Operator must be '+' or '-'.\"\n",
    "    if op1.isdigit() == False or op2.isdigit() == False:\n",
    "      return \"Error: Numbers must only contain digits.\"\n",
    "    if int(op1) > 9999 or int(op2) > 9999: \n",
    "      return \"Error: Numbers cannot be more than four digits.\"\n",
    "\n",
    "    elif answer:\n",
    "      max_length = max(len(op1), len(op2)) + 2\n",
    "      line1 = op1.rjust(max_length)\n",
    "      line2 = operator + ' ' + op2.rjust(max_length - 2)\n",
    "      line3 = '-' * max_length\n",
    "      if operator == '+': line4 = int(op1) + int(op2)\n",
    "      elif operator == '-': line4 = int(op1) - int(op2)\n",
    "      \n",
    "      v_eq.append([line1, line2, line3, (str(line4)).rjust(max_length)])\n",
    "\n",
    "    else:\n",
    "      max_length = max(len(op1), len(op2)) + 2\n",
    "      line1 = op1.rjust(max_length)\n",
    "      line2 = operator + ' ' + op2.rjust(max_length - 2)\n",
    "      line3 = '-' * max_length\n",
    "\n",
    "      v_eq.append([line1, line2, line3])\n",
    "\n",
    "  arranged_problems = []\n",
    "  for lines in zip(*v_eq):\n",
    "  # \"lines\" meaning tuple of all line1, all line2, and all line3 made possible using \"zip\"\n",
    "    arranged_problems.append('    '.join(lines))\n",
    "    # joins each item in the tuple(\"lines\") through 4 spaces\n",
    "    \n",
    "  return '\\n'.join(arranged_problems)\n",
    "\n",
    "if __name__ == \"__main__\":\n",
    "    main()"
   ]
  },
  {
   "cell_type": "markdown",
   "id": "e50a3c73",
   "metadata": {},
   "source": [
    "## TIME CALCULATOR\n",
    "\n",
    "Write a function named add_time that takes in two required parameters and one optional parameter:\n",
    "\n",
    "- a start time in the 12-hour clock format (ending in AM or PM)\n",
    "- a duration time that indicates the number of hours and minutes\n",
    "- (optional) a starting day of the week, case insensitive\n",
    "\n",
    "The function should add the duration time to the start time and return the result.\n",
    "\n",
    "If the result will be the next day, it should show (next day) after the time. If the result will be more than one day later, it should show (n days later) after the time, where \"n\" is the number of days later.\n",
    "\n",
    "If the function is given the optional starting day of the week parameter, then the output should display the day of the week of the result. The day of the week in the output should appear after the time and before the number of days later.\n",
    "\n",
    "Below are some examples of different cases the function should handle. Pay close attention to the spacing and punctuation of the results.\n",
    "\n",
    "\n",
    "**SAMPLE:**\n",
    "add_time(\"3:00 PM\", \"3:10\")\n",
    "#Returns: 6:10 PM\n",
    "\n",
    "add_time(\"11:30 AM\", \"2:32\", \"Monday\")\n",
    "#Returns: 2:02 PM, Monday\n",
    "\n",
    "add_time(\"11:43 AM\", \"00:20\")\n",
    "#Returns: 12:03 PM\n",
    "\n",
    "add_time(\"10:10 PM\", \"3:30\")\n",
    "#Returns: 1:40 AM (next day)\n",
    "\n",
    "add_time(\"11:43 PM\", \"24:20\", \"tueSday\")\n",
    "#Returns: 12:03 AM, Thursday (2 days later)\n",
    "\n",
    "add_time(\"6:30 PM\", \"205:12\")\n",
    "#Returns: 7:42 AM (9 days later)"
   ]
  },
  {
   "cell_type": "code",
   "execution_count": null,
   "id": "4ad09f6f",
   "metadata": {},
   "outputs": [],
   "source": [
    "def add_time(start, duration, weekday=False):\n",
    "    \"\"\"\n",
    "    Adds the given duration to the start time and returns the resulting time.\n",
    "    \n",
    "    Arguments:\n",
    "    start -- The starting time in the format 'H:MM AM/PM'.\n",
    "    duration -- The duration to add in the format 'H:MM'.\n",
    "    weekday -- Optional argument to specify the starting weekday (default: False).\n",
    "    \n",
    "    Returns:\n",
    "    new_time -- The resulting time after adding the duration.\n",
    "    \"\"\"\n",
    "  \n",
    "    # List of weekdays\n",
    "    week = [\"Monday\", \"Tuesday\", \"Wednesday\", \"Thursday\", \"Friday\", \"Saturday\", \"Sunday\"]\n",
    "    \n",
    "    # Splitting start and duration into respective components\n",
    "    start_hour, start_min, start_meri = start.split()[0].split(\":\")\n",
    "    start_hour = int(start_hour)\n",
    "    start_min = int(start_min)\n",
    "    \n",
    "    duration_hour, duration_min = duration.split(\":\")\n",
    "    duration_hour = int(duration_hour)\n",
    "    duration_min = int(duration_min)\n",
    "    \n",
    "    # Converting start_hour to 24-hour format\n",
    "    if start_meri == \"PM\":\n",
    "        start_hour += 12\n",
    "\n",
    "    # Calculating the final time\n",
    "    total_hour = start_hour + duration_hour\n",
    "    total_min = start_min + duration_min\n",
    "\n",
    "    # Adjusting the format\n",
    "    extra_hours = total_min // 60\n",
    "    total_min %= 60\n",
    "    total_hour += extra_hours\n",
    "    \n",
    "    days_passed = total_hour // 24\n",
    "    total_hour %= 24\n",
    "    \n",
    "    if total_hour >= 12:\n",
    "        meridiem = 'PM'\n",
    "        if total_hour > 12:\n",
    "            total_hour -= 12\n",
    "    else:\n",
    "        meridiem = 'AM'\n",
    "        if total_hour == 0:\n",
    "            total_hour = 12\n",
    "\n",
    "    # Building the resulting time string\n",
    "    new_time = f\"{total_hour:02d}:{total_min:02d} {meridiem}\"\n",
    "    if days_passed == 1:\n",
    "        new_time += \" (next day)\"\n",
    "    elif days_passed > 1:\n",
    "        new_time += f\" ({days_passed} days later)\"\n",
    "    \n",
    "    # Adding the weekday if provided\n",
    "    if weekday:\n",
    "        weekday = weekday.capitalize()\n",
    "        if weekday in week:\n",
    "            position = week.index(weekday)\n",
    "            future_position = (position + days_passed) % len(week)\n",
    "            new_weekday = week[future_position]\n",
    "            new_time += f\", {new_weekday}\"\n",
    "    \n",
    "    return new_time"
   ]
  },
  {
   "cell_type": "code",
   "execution_count": null,
   "id": "8e78548e",
   "metadata": {},
   "outputs": [],
   "source": []
  },
  {
   "cell_type": "markdown",
   "id": "05002ce0",
   "metadata": {},
   "source": [
    "# CS50p\n",
    "\n",
    "# Problem Set 0: Functions, Variables"
   ]
  },
  {
   "cell_type": "markdown",
   "id": "87ab6173",
   "metadata": {},
   "source": [
    "### Tip Calculator\n",
    "In the United States, it’s customary to leave a tip for your server after dining in a restaurant, typically an amount equal to 15% or more of your meal’s cost. \n",
    "\n",
    "Unfortunately, we didn’t have time to implement two functions:\n",
    "\n",
    "- `dollars_to_float`, which should accept a `str` as input (formatted as `$##.##`, wherein each `#` is a decimal digit), remove the leading `$`, and return the amount as a `float`. For instance, given `$50.00` as input, it should return `50.0`.\n",
    "- `percent_to_float`, which should accept a `str` as input (formatted as `##%`, wherein each `#` is a decimal digit), remove the trailing `%`, and return the percentage as a `float`. For instance, given `15%` as input, it should return `0.15`.\n",
    "\n",
    "Assume that the user will input values in the expected formats."
   ]
  },
  {
   "cell_type": "code",
   "execution_count": 2,
   "id": "7e16e4ad",
   "metadata": {},
   "outputs": [
    {
     "name": "stdout",
     "output_type": "stream",
     "text": [
      "How much was the meal? $50\n",
      "What percentage would you like to tip? 10%\n",
      "Leave $5.00\n"
     ]
    }
   ],
   "source": [
    "def main():\n",
    "    dollars = dollars_to_float(input(\"How much was the meal? \"))\n",
    "    percent = percent_to_float(input(\"What percentage would you like to tip? \"))\n",
    "    tip = dollars * percent\n",
    "    print(f\"Leave ${tip:.2f}\")\n",
    "\n",
    "\n",
    "def dollars_to_float(d):\n",
    "    # TODO\n",
    "    dfloat = float(d.removeprefix('$'))\n",
    "    return dfloat\n",
    "\n",
    "\n",
    "def percent_to_float(p):\n",
    "    # TODO\n",
    "    no_percent = p.removesuffix('%')\n",
    "    pfloat = float(no_percent) * .01\n",
    "    return pfloat\n",
    "\n",
    "\n",
    "main()"
   ]
  },
  {
   "cell_type": "markdown",
   "id": "92b52fa8",
   "metadata": {},
   "source": [
    "# Conditionals"
   ]
  },
  {
   "cell_type": "markdown",
   "id": "3eeee8ee",
   "metadata": {},
   "source": [
    "### Home Federal Savings Bank\n",
    "In season 7, episode of Seinfeld, Kramer visits a bank that promises to give `$100` to anyone who isn't greeted with a \"hello.\" Kramer is instead greeted with a \"hey,\" which he insists isn't a \"hello,\" and so he asks for `$100`. The bank's manager proposes a compromise: \"You got a greeting that starts with an 'h,' how does $20 sound?\" Kramer accepts.\n",
    "\n",
    "In a file called `bank.py`, implement a program that prompts the user for a greeting. If the greeting starts with “hello”, output `$0`. If the greeting starts with an “h” (but not “hello”), output `$20`. Otherwise, output `$100`. Ignore any leading whitespace in the user’s greeting, and treat the user’s greeting case-insensitively."
   ]
  },
  {
   "cell_type": "code",
   "execution_count": 3,
   "id": "9f19868f",
   "metadata": {},
   "outputs": [
    {
     "name": "stdout",
     "output_type": "stream",
     "text": [
      "Greeting: hey!\n",
      "$20\n"
     ]
    }
   ],
   "source": [
    "greeting = input('Greeting: ').strip().lower()\n",
    "fgreeting = greeting.replace(' ', '.')\n",
    "if fgreeting.startswith('hello'):\n",
    "    print('$0')\n",
    "elif fgreeting.startswith('h'):\n",
    "    print('$20')\n",
    "else:\n",
    "    print('$100')"
   ]
  },
  {
   "cell_type": "markdown",
   "id": "a661190b",
   "metadata": {},
   "source": [
    "### Math Interpreter\n",
    "Python already supports math, whereby *you* can write code to add, subtract, multiply, or divide values and even variables. But let’s write a program that enables users to do math, even without knowing Python.\n",
    "\n",
    "In a file called `interpreter.py`, implement a program that prompts the user for an arithmetic expression and then calculates and outputs the result as a floating-point value formatted to one decimal place. Assume that the user’s input will be formatted as `x y z`, with one space between `x` and `y` and one space between `y` and `z`, wherein:\n",
    "\n",
    "- `x` is an integer\n",
    "- `y` is `+`, `-`, `*`, or `/`\n",
    "- `z` is an integer\n",
    "\n",
    "For instance, if the user inputs `1 + 1`, your program should output `2.0`. Assume that, if `y` is `/`, then `z` will not be `0`.\n",
    "\n",
    "Note that, just as `python` itself is an interpreter for Python, so will your `interpreter.py` be an interpreter for math!"
   ]
  },
  {
   "cell_type": "code",
   "execution_count": 4,
   "id": "94690a7d",
   "metadata": {},
   "outputs": [
    {
     "name": "stdout",
     "output_type": "stream",
     "text": [
      "Expression: 1 + 1\n",
      "2.0\n"
     ]
    }
   ],
   "source": [
    "expression = input(\"Expression: \")\n",
    "pieces = expression.split()\n",
    "x = int(pieces[0])\n",
    "y = (pieces[1])\n",
    "z = int(pieces[2])\n",
    "a = 0\n",
    "if y == '+':\n",
    "    a = x + z\n",
    "    print(float(\"%.2f\" % a))\n",
    "elif y == '-':\n",
    "    a = x - z\n",
    "    print(float(\"%.2f\" % a))\n",
    "elif y == '*':\n",
    "    a = x * z\n",
    "    print(float(\"%.2f\" % a))\n",
    "else:\n",
    "    a = x / z\n",
    "    print(float(\"%.2f\" % a))"
   ]
  },
  {
   "cell_type": "markdown",
   "id": "db2bda52",
   "metadata": {},
   "source": [
    "# Loops\n",
    "\n",
    "### camelCase\n",
    "In some languages, it’s common to use camel case (otherwise known as “mixed case”) for variables’ names when those names comprise multiple words, whereby the first letter of the first word is lowercase but the first letter of each subsequent word is uppercase. For instance, whereas a variable for a user’s name might be called `name`, a variable for a user’s first name might be called `firstName`, and a variable for a user’s preferred first name (e.g., nickname) might be called `preferredFirstName`.\n",
    "\n",
    "Python, by contrast, recommends snake case, whereby words are instead separated by underscores (`_`), with all letters in lowercase. For instance, those same variables would be called `name`, `first_name`, and `preferred_first_name`, respectively, in Python.\n",
    "\n",
    "In a file called `camel.py`, implement a program that prompts the user for the name of a variable in camel case and outputs the corresponding name in snake case. Assume that the user’s input will indeed be in camel case."
   ]
  },
  {
   "cell_type": "code",
   "execution_count": 5,
   "id": "91d6eee8",
   "metadata": {},
   "outputs": [
    {
     "name": "stdout",
     "output_type": "stream",
     "text": [
      "camelCase: DavidMalan\n",
      "snake_name: _david_malan\n"
     ]
    }
   ],
   "source": [
    "camel_name = input('camelCase: ')\n",
    "print('snake_name: ', end='')\n",
    "# prints each letter in camel_name; except when uppercase, prints the snake ver.\n",
    "for letter in camel_name:\n",
    "    if letter.isupper():\n",
    "        print('_' + letter.lower(), end='')\n",
    "    else:\n",
    "        print(letter, end=\"\")\n",
    "    # print space in the end\n",
    "print()"
   ]
  },
  {
   "cell_type": "markdown",
   "id": "a70b3f91",
   "metadata": {},
   "source": [
    "### Coke Machine\n",
    "Suppose that a machine sells bottles of Coca-Cola (Coke) for 50 cents and only accepts coins in these denominations: 25 cents, 10 cents, and 5 cents.\n",
    "\n",
    "In a file called `coke.py`, implement a program that prompts the user to insert a coin, one at a time, each time informing the user of the amount due. Once the user has inputted at least 50 cents, output how many cents in change the user is owed. Assume that the user will only input integers, and ignore any integer that isn’t an accepted denomination."
   ]
  },
  {
   "cell_type": "code",
   "execution_count": 6,
   "id": "2d19c3d4",
   "metadata": {},
   "outputs": [
    {
     "name": "stdout",
     "output_type": "stream",
     "text": [
      "Amount Due: 50\n",
      "Insert Coin: 50\n",
      "Amount Due: 50\n",
      "Insert Coin: 20\n",
      "Amount Due: 50\n",
      "Insert Coin: 50\n",
      "Amount Due: 50\n",
      "Insert Coin: 25\n",
      "Amount Due: 25\n",
      "Insert Coin: 25\n",
      "Change Owed: 0\n"
     ]
    }
   ],
   "source": [
    "due = 50\n",
    "print('Amount Due:', due)\n",
    "while due != 0:\n",
    "    amount = int(input('Insert Coin: '))\n",
    "    if amount == 25 or amount == 10 or amount == 5:\n",
    "        due -= amount\n",
    "        if due > 0:\n",
    "            print('Amount Due:', due)\n",
    "        if due <= 0:\n",
    "            print('Change Owed:', abs(due))\n",
    "            exit()\n",
    "    else:\n",
    "        print('Amount Due:', due)"
   ]
  },
  {
   "cell_type": "markdown",
   "id": "7b965363",
   "metadata": {},
   "source": [
    "### Just setting up my twttr\n",
    "When texting or tweeting, it’s not uncommon to shorten words to save time or space, as by omitting vowels, much like Twitter was originally called *twttr*. In a file called `twttr.py`, implement a program that prompts the user for a `str` of text and then outputs that same text but with all vowels (A, E, I, O, and U) omitted, whether inputted in uppercase or lowercase."
   ]
  },
  {
   "cell_type": "code",
   "execution_count": 3,
   "id": "ca93175c",
   "metadata": {},
   "outputs": [
    {
     "name": "stdout",
     "output_type": "stream",
     "text": [
      "Input: allow\n",
      "Output: llw\n"
     ]
    }
   ],
   "source": [
    "vowel = ['A', 'E', 'I', 'O', 'U', 'a', 'e', 'i', 'o', 'u']\n",
    "u_input = input('Input: ')\n",
    "print('Output: ', end='')\n",
    "for letter in u_input:\n",
    "    if letter in vowel:\n",
    "        print('', end='')\n",
    "    else:\n",
    "        print(letter, end=\"\")\n",
    "print()"
   ]
  },
  {
   "cell_type": "markdown",
   "id": "26fea6c8",
   "metadata": {},
   "source": [
    "### Vanity Plates\n",
    "In Massachusetts, home to Harvard University, it’s possible to request a vanity license plate for your car, with your choice of letters and numbers instead of random ones. Among the requirements, though, are:\n",
    "\n",
    "- “All vanity plates must start with at least two letters.”\n",
    "- “… vanity plates may contain a maximum of 6 characters (letters or numbers) and a minimum of 2 characters.”\n",
    "- “Numbers cannot be used in the middle of a plate; they must come at the end. For example, AAA222 would be an acceptable … vanity plate; AAA22A would not be acceptable. The first number used cannot be a ‘0’.”\n",
    "- “No periods, spaces, or punctuation marks are allowed.”\n",
    "\n",
    "In `plates.py`, implement a program that prompts the user for a vanity plate and then output `Valid` if meets all of the requirements or `Invalid` if it does not. Assume that any letters in the user’s input will be uppercase. Structure your program per the below, wherein `is_valid` returns `True` if `s` meets all requirements and `False` if it does not. Assume that `s` will be a `str`. You’re welcome to implement additional functions for `is_valid` to call (e.g., one function per requirement)."
   ]
  },
  {
   "cell_type": "code",
   "execution_count": 5,
   "id": "261d6b4b",
   "metadata": {},
   "outputs": [
    {
     "name": "stdout",
     "output_type": "stream",
     "text": [
      "Plate: AB22\n",
      "Valid\n"
     ]
    }
   ],
   "source": [
    "def main():\n",
    "    plate = input(\"Plate: \")\n",
    "    if is_valid(plate):\n",
    "        print(\"Valid\")\n",
    "    else:\n",
    "        print(\"Invalid\")\n",
    "\n",
    "\n",
    "def is_valid(s):\n",
    "    # checks 2-6 chars, first 2 chars are letters, all are either num or alpha,\n",
    "    if 6 >=len(s) >= 2 and s[0:2].isalpha() and s.isalnum():\n",
    "        for char in s:\n",
    "            # checks numbers in plate\n",
    "            if char.isdigit():\n",
    "                index = s.index(char)\n",
    "                # checks that if char is number, succeeding chars must all be numbers;\n",
    "                # and first number char is not 0\n",
    "                if s[index:].isdigit() and int(char) != 0:\n",
    "                    return True\n",
    "                else:\n",
    "                    return False\n",
    "        return True\n",
    "\n",
    "\n",
    "main()"
   ]
  },
  {
   "cell_type": "markdown",
   "id": "6026893b",
   "metadata": {},
   "source": [
    "### Nutrition Facts\n",
    "The U.S. Food & Drug Adminstration (FDA) offers downloadable/printable posters that “show nutrition information for the 20 most frequently consumed raw fruits … in the United States. Retail stores are welcome to download the posters, print, display and/or distribute them to consumers in close proximity to the relevant foods in the stores.”\n",
    "\n",
    "In a file called `nutrition.py`, implement a program that prompts ~consumers~ users to input a fruit (case-insensitively) and then outputs the number of calories in one portion of that fruit, per the FDA’s poster for fruits, which is also available as text. Capitalization aside, assume that users will input fruits exactly as written in the poster (e.g., `strawberries`, not `strawberry`). Ignore any input that isn’t a fruit."
   ]
  },
  {
   "cell_type": "code",
   "execution_count": 6,
   "id": "b0eb7cec",
   "metadata": {},
   "outputs": [
    {
     "name": "stdout",
     "output_type": "stream",
     "text": [
      "Item: avocado\n",
      "Calories: 50\n"
     ]
    }
   ],
   "source": [
    "fruits = {'apple': 130, 'avocado': 50, 'banana': 110, 'cantaloupe': 50, 'grapefruit': 60, 'grapes': 90, 'honeydew melon': 50, 'kiwifruit': 90, 'lemon': 15, 'lime': 20, 'nectarine': 60, 'orange': 80, 'peach': 60, 'pear':100, 'pineapple': 50, 'plums': 70, 'strawberries': 50, 'sweet cherries': 100, 'tangerine': 50, 'watermelon': 80}\n",
    "\n",
    "inpfruit = input('Item: ').lower()\n",
    "\n",
    "if inpfruit in fruits:\n",
    "    print('Calories:', fruits[inpfruit])"
   ]
  },
  {
   "cell_type": "markdown",
   "id": "af9f1da5",
   "metadata": {},
   "source": [
    "# Exceptions\n",
    "\n",
    "### Fuel Guage\n",
    "Fuel gauges indicate, often with fractions, just how much fuel is in a tank. For instance 1/4 indicates that a tank is 25% full, 1/2 indicates that a tank is 50% full, and 3/4 indicates that a tank is 75% full.\n",
    "\n",
    "In a file called `fuel.py`, implement a program that prompts the user for a fraction, formatted as `X/Y`, wherein each of `X` and `Y` is an integer, and then outputs, as a percentage rounded to the nearest integer, how much fuel is in the tank. If, though, 1% or less remains, output `E` instead to indicate that the tank is essentially empty. And if 99% or more remains, output `F` instead to indicate that the tank is essentially full.\n",
    "\n",
    "If, though, `X` or `Y` is not an integer, `X` is greater than `Y`, or `Y` is `0`, instead prompt the user again. (It is not necessary for `Y` to be `4`.) Be sure to catch any exceptions like `ValueError` or `ZeroDivisionError`."
   ]
  },
  {
   "cell_type": "code",
   "execution_count": 7,
   "id": "97edfdb6",
   "metadata": {},
   "outputs": [
    {
     "name": "stdout",
     "output_type": "stream",
     "text": [
      "Fraction: 1/25\n",
      "4%\n"
     ]
    }
   ],
   "source": [
    "while True:\n",
    "    fraction = input(\"Fraction: \").split(\"/\")\n",
    "    try:\n",
    "        n = int(fraction[0])\n",
    "        d = int(fraction[1])\n",
    "    except (ValueError, ZeroDivisionError):\n",
    "        continue\n",
    "    # checks that n > d; better to copy the approach below on this part\n",
    "    else:\n",
    "        if n > d:\n",
    "            continue\n",
    "    fuel = round((n / d) * 100)\n",
    "    if fuel <= 1:\n",
    "        print(\"E\")\n",
    "    elif fuel >= 99:\n",
    "        print(\"F\")\n",
    "    else:\n",
    "        print(f\"{fuel}%\")\n",
    "    break"
   ]
  },
  {
   "cell_type": "markdown",
   "id": "4f4f132f",
   "metadata": {},
   "source": [
    "### Felipe's Taqueria\n",
    "One of the most popular places to eat in Harvard Square is Felipe’s Taqueria, which offers a menu of entrees, per the `dict` below, wherein the value of each key is a price in dollars:"
   ]
  },
  {
   "cell_type": "code",
   "execution_count": 9,
   "id": "31bac5e0",
   "metadata": {},
   "outputs": [
    {
     "data": {
      "text/plain": [
       "{'Baja Taco': 4.0,\n",
       " 'Burrito': 7.5,\n",
       " 'Bowl': 8.5,\n",
       " 'Nachos': 11.0,\n",
       " 'Quesadilla': 8.5,\n",
       " 'Super Burrito': 8.5,\n",
       " 'Super Quesadilla': 9.5,\n",
       " 'Taco': 3.0,\n",
       " 'Tortilla Salad': 8.0}"
      ]
     },
     "execution_count": 9,
     "metadata": {},
     "output_type": "execute_result"
    }
   ],
   "source": [
    "{\n",
    "    \"Baja Taco\": 4.00,\n",
    "    \"Burrito\": 7.50,\n",
    "    \"Bowl\": 8.50,\n",
    "    \"Nachos\": 11.00,\n",
    "    \"Quesadilla\": 8.50,\n",
    "    \"Super Burrito\": 8.50,\n",
    "    \"Super Quesadilla\": 9.50,\n",
    "    \"Taco\": 3.00,\n",
    "    \"Tortilla Salad\": 8.00\n",
    "}"
   ]
  },
  {
   "cell_type": "markdown",
   "id": "5ce2962a",
   "metadata": {},
   "source": [
    "In a file called `taqueria.py`, implement a program that enables a user to place an order, prompting them for items, one per line, until the user inputs control-d (which is a common way of ending one’s input to a program). After each inputted item, display the total cost of all items inputted thus far, prefixed with a dollar sign (`$`) and formatted to two decimal places. Treat the user’s input case insensitively. Ignore any input that isn’t an item. Assume that every item on the menu will be titlecased."
   ]
  },
  {
   "cell_type": "markdown",
   "id": "064614ed",
   "metadata": {},
   "source": [
    "*Hint:* Note that you can detect when the user has inputted control-d by catching an `EOFError`."
   ]
  },
  {
   "cell_type": "code",
   "execution_count": null,
   "id": "1d0cb7f5",
   "metadata": {},
   "outputs": [],
   "source": [
    "menu = {\n",
    "    \"Baja Taco\": 4.00,\n",
    "    \"Burrito\": 7.50,\n",
    "    \"Bowl\": 8.50,\n",
    "    \"Nachos\": 11.00,\n",
    "    \"Quesadilla\": 8.50,\n",
    "    \"Super Burrito\": 8.50,\n",
    "    \"Super Quesadilla\": 9.50,\n",
    "    \"Taco\": 3.00,\n",
    "    \"Tortilla Salad\": 8.00\n",
    "}\n",
    "\n",
    "total = 0\n",
    "\n",
    "while True:\n",
    "    try:\n",
    "        item = input(\"Item: \").title()\n",
    "        if item in menu:\n",
    "            total += menu[item]\n",
    "            print(\"Total: $\", end=\"\")\n",
    "            print(\"{:.2f}\".format(total))\n",
    "    except EOFError:\n",
    "        print()\n",
    "        break"
   ]
  },
  {
   "cell_type": "markdown",
   "id": "eab083cb",
   "metadata": {},
   "source": [
    "### Grocery List\n",
    "Suppose that you’re in the habit of making a list of items you need from the grocery store.\n",
    "\n",
    "In a file called `grocery.py`, implement a program that prompts the user for items, one per line, until the user inputs control-d (which is a common way of ending one’s input to a program). Then output the user’s grocery list in all uppercase, sorted alphabetically by item, prefixing each line with the number of times the user inputted that item. No need to pluralize the items. Treat the user’s input case-insensitively."
   ]
  },
  {
   "cell_type": "code",
   "execution_count": null,
   "id": "4a6a6cd2",
   "metadata": {},
   "outputs": [],
   "source": [
    "grocery = {}\n",
    "\n",
    "while True:\n",
    "    try:\n",
    "        item = input(\"\").upper()\n",
    "        if item not in grocery:\n",
    "            grocery[item] = 1\n",
    "        else:\n",
    "            grocery[item] += 1\n",
    "    except EOFError:\n",
    "        for item in sorted(grocery):\n",
    "            print(f\"{grocery[item]} {item}\")\n",
    "        break"
   ]
  },
  {
   "cell_type": "markdown",
   "id": "02fb486d",
   "metadata": {},
   "source": [
    "### Outdated\n",
    "In the United States, dates are typically formatted in month-day-year order (MM/DD/YYYY), otherwise known as middle-endian order, which is arguably bad design. Dates in that format can’t be easily sorted because the date’s year comes last instead of first. Try sorting, for instance, `2/2/1800`, `3/3/1900`, and `1/1/2000` chronologically in any program (e.g., a spreadsheet). Dates in that format are also ambiguous. Harvard was founded on September 8, 1636, but 9/8/1636 could also be interpreted as August 9, 1636!\n",
    "\n",
    "Fortunately, computers tend to use ISO 8601, an international standard that prescribes that dates should be formatted in year-month-day (YYYY-MM-DD) order, no matter the country, formatting years with four digits, months with two digits, and days with two digits, “padding” each with leading zeroes as needed.\n",
    "\n",
    "In a file called `outdated.py`, implement a program that prompts the user for a date, anno Domini, in month-day-year order, formatted like `9/8/1636` or `September 8, 1636`, wherein the month in the latter might be any of the values in the `list` below:"
   ]
  },
  {
   "cell_type": "code",
   "execution_count": null,
   "id": "e682f47b",
   "metadata": {},
   "outputs": [],
   "source": [
    "[\n",
    "    \"January\",\n",
    "    \"February\",\n",
    "    \"March\",\n",
    "    \"April\",\n",
    "    \"May\",\n",
    "    \"June\",\n",
    "    \"July\",\n",
    "    \"August\",\n",
    "    \"September\",\n",
    "    \"October\",\n",
    "    \"November\",\n",
    "    \"December\"\n",
    "]"
   ]
  },
  {
   "cell_type": "markdown",
   "id": "fc811385",
   "metadata": {},
   "source": [
    "Then output that same date in `YYYY-MM-DD` format. If the user’s input is not a valid date in either format, prompt the user again. Assume that every month has no more than 31 days; no need to validate whether a month has 28, 29, 30, or 31 days."
   ]
  },
  {
   "cell_type": "code",
   "execution_count": 5,
   "id": "a4eb0854",
   "metadata": {},
   "outputs": [
    {
     "name": "stdout",
     "output_type": "stream",
     "text": [
      "Date: September 5, 1989\n",
      "\n",
      "Date: 9/5/1989\n",
      "1989-09-05\n"
     ]
    }
   ],
   "source": [
    "months = [\n",
    "    \"January\",\n",
    "    \"February\",\n",
    "    \"March\",\n",
    "    \"April\",\n",
    "    \"May\",\n",
    "    \"June\",\n",
    "    \"July\",\n",
    "    \"August\",\n",
    "    \"September\",\n",
    "    \"October\",\n",
    "    \"November\",\n",
    "    \"December\"\n",
    "]\n",
    "\n",
    "while True:\n",
    "    date = input(\"Date: \")\n",
    "    try:\n",
    "        month, day, year = date.split(\"/\")\n",
    "        if (int(month) >= 1 and int(month) <= 12) and (int(day) >= 1 and int(day) <= 31):\n",
    "            break\n",
    "    except:\n",
    "        try:\n",
    "            old_month, old_day, year = dtae.split(\" \")\n",
    "            for i in range(len(months)):\n",
    "                if old_mouth == months[i]:\n",
    "                    month = i + 1\n",
    "            day = old_day.replace(\",\",\"\")\n",
    "            if (int(month) >= 1 and int(month) <= 12) and (int(day) >= 1 and int(day) <= 31):\n",
    "                break\n",
    "        except:\n",
    "            print()\n",
    "            pass\n",
    "\n",
    "print(f\"{year}-{int(month):02}-{int(day):02}\")"
   ]
  },
  {
   "cell_type": "markdown",
   "id": "6a10d2ca",
   "metadata": {},
   "source": [
    "# Library"
   ]
  },
  {
   "cell_type": "code",
   "execution_count": 1,
   "id": "f3566883",
   "metadata": {},
   "outputs": [
    {
     "name": "stdout",
     "output_type": "stream",
     "text": [
      "Requirement already satisfied: pyttsx3 in c:\\users\\lenovo\\anaconda3\\lib\\site-packages (2.90)\n",
      "Requirement already satisfied: pypiwin32 in c:\\users\\lenovo\\anaconda3\\lib\\site-packages (from pyttsx3) (223)\n",
      "Requirement already satisfied: comtypes in c:\\users\\lenovo\\anaconda3\\lib\\site-packages (from pyttsx3) (1.1.10)\n",
      "Requirement already satisfied: pywin32 in c:\\users\\lenovo\\anaconda3\\lib\\site-packages (from pyttsx3) (302)\n"
     ]
    }
   ],
   "source": [
    "!pip install pyttsx3"
   ]
  },
  {
   "cell_type": "code",
   "execution_count": 2,
   "id": "8f50c184",
   "metadata": {},
   "outputs": [
    {
     "name": "stdout",
     "output_type": "stream",
     "text": [
      "Requirement already satisfied: cowsay in c:\\users\\lenovo\\anaconda3\\lib\\site-packages (5.0)\n"
     ]
    }
   ],
   "source": [
    "!pip install cowsay"
   ]
  },
  {
   "cell_type": "code",
   "execution_count": 5,
   "id": "cd5db9e0",
   "metadata": {},
   "outputs": [
    {
     "name": "stdout",
     "output_type": "stream",
     "text": [
      "What's this? i said, i don't know\n",
      "  ____________________\n",
      "| i said, i don't know |\n",
      "  ====================\n",
      "                    \\\n",
      "                     \\\n",
      "                       ^__^\n",
      "                       (oo)\\_______\n",
      "                       (__)\\       )\\/\\\n",
      "                           ||----w |\n",
      "                           ||     ||\n"
     ]
    }
   ],
   "source": [
    "import cowsay\n",
    "import pyttsx3\n",
    "\n",
    "engine = pyttsx3.init()\n",
    "this = input(\"What's this? \")\n",
    "cowsay.cow(this)\n",
    "engine.say(this)\n",
    "engine.runAndWait()"
   ]
  },
  {
   "cell_type": "markdown",
   "id": "cae36391",
   "metadata": {},
   "source": [
    "### Emojize\n",
    "\n",
    "Because emoji aren’t quite as easy to type as text, at least on laptops and desktops, some programs support “codes,” whereby you can type, for instance, `:thumbs_up:`, which will be automatically converted to 👍. Some programs additionally support aliases, whereby you can more succinctly type, for instance, `:thumbsup:`, which will also be automatically converted to 👍.\n",
    "\n",
    "See carpedm20.github.io/emoji/all.html?enableList=enable_list_alias for a list of codes with aliases.\n",
    "\n",
    "In a file called `emojize.py`, implement a program that prompts the user for a `str` in English and then outputs the “emojized” version of that `str`, converting any codes (or aliases) therein to their corresponding emoji.\n",
    "\n",
    "**HINTS:**\n",
    "- Note that the `emoji` module comes with two functions, per pypi.org/project/emoji, one of which is `emojize`, which takes an optional, named parameter called `language`. You can install it with:\n",
    "pip install emoji"
   ]
  },
  {
   "cell_type": "code",
   "execution_count": 7,
   "id": "52a17dab",
   "metadata": {},
   "outputs": [
    {
     "name": "stdout",
     "output_type": "stream",
     "text": [
      "Collecting emoji\n",
      "  Downloading emoji-2.8.0-py2.py3-none-any.whl (358 kB)\n",
      "     -------------------------------------- 358.9/358.9 kB 2.2 MB/s eta 0:00:00\n",
      "Installing collected packages: emoji\n",
      "Successfully installed emoji-2.8.0\n",
      "Note: you may need to restart the kernel to use updated packages.\n"
     ]
    }
   ],
   "source": [
    "pip install emoji"
   ]
  },
  {
   "cell_type": "code",
   "execution_count": 10,
   "id": "e5571087",
   "metadata": {},
   "outputs": [
    {
     "name": "stdout",
     "output_type": "stream",
     "text": [
      "Input: :Christmas_tree:\n",
      "Output: 🎄\n"
     ]
    }
   ],
   "source": [
    "import emoji\n",
    "\n",
    "language = input(\"Input: \")\n",
    "emoji = emoji.emojize(language, language='alias')\n",
    "print(f\"Output: {emoji}\")"
   ]
  },
  {
   "cell_type": "markdown",
   "id": "d17d11a9",
   "metadata": {},
   "source": [
    "### Frank, Ian and Glen’s Letters\n",
    "FIGlet, named after Frank, Ian, and Glen’s letters, is a program from the early 1990s for making large letters out of ordinary text, a form of ASCII art:\n",
    "\n",
    " `_ _ _          _   _     _\n",
    "| (_) | _____  | |_| |__ (_)___\n",
    "| | | |/ / _ \\ | __| '_ \\| / __|\n",
    "| | |   <  __/ | |_| | | | \\__ \\\n",
    "|_|_|_|\\_\\___|  \\__|_| |_|_|___/`\n",
    "\n",
    "Among the fonts supported by FIGlet are those at figlet.org/examples.html.\n",
    "\n",
    "FIGlet has since been ported to Python as a module called pyfiglet.\n",
    "\n",
    "In a file called `figlet.py`, implement a program that:\n",
    "\n",
    "- Expects zero or two command-line arguments:\n",
    "    - Zero if the user would like to output text in a random font.\n",
    "    - Two if the user would like to output text in a specific font, in which case the first of the two should be `-f` or `--font`, and the second of the two should be the name of the font.\n",
    "- Prompts the user for a `str` of text.\n",
    "- Outputs that text in the desired font.\n",
    "\n",
    "If the user provides two command-line arguments and the first is not `-f` or `--font` or the second is not the name of a font, the program should exit via `sys.exit` with an error message.\n",
    "\n",
    "**HINTS:**\n",
    "- You can install pyfiglet with:\n",
    "`pip install pyfiglet`\n",
    "\n",
    "- The documentation for pyfiglet isn’t very clear, but you can use the module as follows:\n",
    "`from pyfiglet import Figlet\n",
    "\n",
    "figlet = Figlet()`\n",
    "\n",
    "- You can then get a list of available fonts with code like this:\n",
    "`figlet.getFonts()`\n",
    "\n",
    "- You can set the font with code like this, wherein f is the font’s name as a `str`:\n",
    "`figlet.setFont(font=f)`\n",
    "\n",
    "And you can output text in that font with code like this, wherein s is that text as a `str`:\n",
    "`print(figlet.renderText(s))`\n",
    "\n",
    "- Note that the `random` module comes with quite a few functions, per docs.python.org/3/library/random.html."
   ]
  },
  {
   "cell_type": "code",
   "execution_count": 11,
   "id": "0f25c294",
   "metadata": {},
   "outputs": [
    {
     "name": "stdout",
     "output_type": "stream",
     "text": [
      "Collecting pyfiglet\n",
      "  Downloading pyfiglet-1.0.2-py3-none-any.whl (1.1 MB)\n",
      "     ---------------------------------------- 1.1/1.1 MB 6.9 MB/s eta 0:00:00\n",
      "Installing collected packages: pyfiglet\n",
      "Successfully installed pyfiglet-1.0.2\n",
      "Note: you may need to restart the kernel to use updated packages.\n"
     ]
    }
   ],
   "source": [
    "pip install pyfiglet"
   ]
  },
  {
   "cell_type": "code",
   "execution_count": 21,
   "id": "51425f01",
   "metadata": {},
   "outputs": [
    {
     "ename": "SystemExit",
     "evalue": "Invalid usage",
     "output_type": "error",
     "traceback": [
      "An exception has occurred, use %tb to see the full traceback.\n",
      "\u001b[1;31mSystemExit\u001b[0m\u001b[1;31m:\u001b[0m Invalid usage\n"
     ]
    }
   ],
   "source": [
    "from pyfiglet import Figlet\n",
    "import random\n",
    "import sys\n",
    "\n",
    "figlet = Figlet()\n",
    "\n",
    "if len(sys.argv) == 1:\n",
    "    text = input(\"Input: \")\n",
    "    figlet.setFont(font=random.choice(figlet.getFonts()))\n",
    "    print(\"Output:\", figlet.renderText(text))\n",
    "elif len(sys.argv) == 3 and (sys.argv[1] == \"-f\" or sys.argv[1] == \"--font\"):\n",
    "    font_name = sys.argv[2]\n",
    "    if font_name in figlet.getFonts():\n",
    "        text = input(\"Input: \")\n",
    "        figlet.setFont(font=font_name)\n",
    "        print(\"Output:\", figlet.renderText(text))\n",
    "    else:\n",
    "        sys.exit(\"Invalid usage\")\n",
    "else:\n",
    "    sys.exit(\"Invalid usage\")"
   ]
  },
  {
   "cell_type": "markdown",
   "id": "e6a86978",
   "metadata": {},
   "source": [
    "### Adieu, Adieu\n",
    "\n",
    "In The Sound of Music, there’s a song sung largely in English, So Long, Farewell, with these lyrics, wherein “adieu” means “goodbye” in French:\n",
    "\n",
    "`Adieu, adieu, to yieu and yieu and yieu`\n",
    "\n",
    "Of course, the line isn’t grammatically correct, since it would typically be written (with an Oxford comma) as:\n",
    "\n",
    "`Adieu, adieu, to yieu, yieu, and yieu`\n",
    "\n",
    "To be fair, “yieu” isn’t even a word; it just rhymes with “you”!\n",
    "\n",
    "In a file called `adieu.py`, implement a program that prompts the user for names, one per line, until the user inputs control-d. Assume that the user will input at least one name. Then bid adieu to those names, separating two names with one `and`, three names with two commas and one `and`, and n names with n - 1 commas and one `and`, as in the below:\n",
    "`Adieu, adieu, to Liesl\n",
    "Adieu, adieu, to Liesl and Friedrich\n",
    "Adieu, adieu, to Liesl, Friedrich, and Louisa\n",
    "Adieu, adieu, to Liesl, Friedrich, Louisa, and Kurt\n",
    "Adieu, adieu, to Liesl, Friedrich, Louisa, Kurt, and Brigitta\n",
    "Adieu, adieu, to Liesl, Friedrich, Louisa, Kurt, Brigitta, and Marta\n",
    "Adieu, adieu, to Liesl, Friedrich, Louisa, Kurt, Brigitta, Marta, and Gretl`"
   ]
  },
  {
   "cell_type": "code",
   "execution_count": 22,
   "id": "a7c0b243",
   "metadata": {},
   "outputs": [
    {
     "name": "stdout",
     "output_type": "stream",
     "text": [
      "Collecting inflect\n",
      "  Downloading inflect-7.0.0-py3-none-any.whl (34 kB)\n",
      "Collecting pydantic>=1.9.1\n",
      "  Downloading pydantic-2.3.0-py3-none-any.whl (374 kB)\n",
      "     -------------------------------------- 374.5/374.5 kB 2.6 MB/s eta 0:00:00\n",
      "Requirement already satisfied: typing-extensions in c:\\users\\lenovo\\anaconda3\\lib\\site-packages (from inflect) (4.3.0)\n",
      "Collecting annotated-types>=0.4.0\n",
      "  Downloading annotated_types-0.5.0-py3-none-any.whl (11 kB)\n",
      "Collecting typing-extensions\n",
      "  Downloading typing_extensions-4.7.1-py3-none-any.whl (33 kB)\n",
      "Collecting pydantic-core==2.6.3\n",
      "  Downloading pydantic_core-2.6.3-cp39-none-win_amd64.whl (1.7 MB)\n",
      "     ---------------------------------------- 1.7/1.7 MB 2.8 MB/s eta 0:00:00\n",
      "Installing collected packages: typing-extensions, annotated-types, pydantic-core, pydantic, inflect\n",
      "  Attempting uninstall: typing-extensions\n",
      "    Found existing installation: typing_extensions 4.3.0\n",
      "    Uninstalling typing_extensions-4.3.0:\n",
      "      Successfully uninstalled typing_extensions-4.3.0\n",
      "Successfully installed annotated-types-0.5.0 inflect-7.0.0 pydantic-2.3.0 pydantic-core-2.6.3 typing-extensions-4.7.1\n",
      "Note: you may need to restart the kernel to use updated packages.\n"
     ]
    }
   ],
   "source": [
    "pip install inflect"
   ]
  },
  {
   "cell_type": "code",
   "execution_count": 25,
   "id": "2890948c",
   "metadata": {},
   "outputs": [
    {
     "name": "stdout",
     "output_type": "stream",
     "text": [
      "Name: Marcus\n",
      "Name: Miguel\n"
     ]
    },
    {
     "ename": "KeyboardInterrupt",
     "evalue": "Interrupted by user",
     "output_type": "error",
     "traceback": [
      "\u001b[1;31m---------------------------------------------------------------------------\u001b[0m",
      "\u001b[1;31mKeyboardInterrupt\u001b[0m                         Traceback (most recent call last)",
      "\u001b[1;32m~\\AppData\\Local\\Temp\\ipykernel_12548\\4078380583.py\u001b[0m in \u001b[0;36m<module>\u001b[1;34m\u001b[0m\n\u001b[0;32m      7\u001b[0m \u001b[1;32mwhile\u001b[0m \u001b[1;32mTrue\u001b[0m\u001b[1;33m:\u001b[0m\u001b[1;33m\u001b[0m\u001b[1;33m\u001b[0m\u001b[0m\n\u001b[0;32m      8\u001b[0m     \u001b[1;32mtry\u001b[0m\u001b[1;33m:\u001b[0m\u001b[1;33m\u001b[0m\u001b[1;33m\u001b[0m\u001b[0m\n\u001b[1;32m----> 9\u001b[1;33m         \u001b[0mname\u001b[0m \u001b[1;33m=\u001b[0m \u001b[0minput\u001b[0m\u001b[1;33m(\u001b[0m\u001b[1;34m\"Name: \"\u001b[0m\u001b[1;33m)\u001b[0m\u001b[1;33m\u001b[0m\u001b[1;33m\u001b[0m\u001b[0m\n\u001b[0m\u001b[0;32m     10\u001b[0m         \u001b[0mnames\u001b[0m\u001b[1;33m.\u001b[0m\u001b[0mappend\u001b[0m\u001b[1;33m(\u001b[0m\u001b[0mname\u001b[0m\u001b[1;33m)\u001b[0m\u001b[1;33m\u001b[0m\u001b[1;33m\u001b[0m\u001b[0m\n\u001b[0;32m     11\u001b[0m     \u001b[1;32mexcept\u001b[0m \u001b[0mEOFError\u001b[0m\u001b[1;33m:\u001b[0m\u001b[1;33m\u001b[0m\u001b[1;33m\u001b[0m\u001b[0m\n",
      "\u001b[1;32m~\\anaconda3\\lib\\site-packages\\ipykernel\\kernelbase.py\u001b[0m in \u001b[0;36mraw_input\u001b[1;34m(self, prompt)\u001b[0m\n\u001b[0;32m   1175\u001b[0m                 \u001b[1;34m\"raw_input was called, but this frontend does not support input requests.\"\u001b[0m\u001b[1;33m\u001b[0m\u001b[1;33m\u001b[0m\u001b[0m\n\u001b[0;32m   1176\u001b[0m             )\n\u001b[1;32m-> 1177\u001b[1;33m         return self._input_request(\n\u001b[0m\u001b[0;32m   1178\u001b[0m             \u001b[0mstr\u001b[0m\u001b[1;33m(\u001b[0m\u001b[0mprompt\u001b[0m\u001b[1;33m)\u001b[0m\u001b[1;33m,\u001b[0m\u001b[1;33m\u001b[0m\u001b[1;33m\u001b[0m\u001b[0m\n\u001b[0;32m   1179\u001b[0m             \u001b[0mself\u001b[0m\u001b[1;33m.\u001b[0m\u001b[0m_parent_ident\u001b[0m\u001b[1;33m[\u001b[0m\u001b[1;34m\"shell\"\u001b[0m\u001b[1;33m]\u001b[0m\u001b[1;33m,\u001b[0m\u001b[1;33m\u001b[0m\u001b[1;33m\u001b[0m\u001b[0m\n",
      "\u001b[1;32m~\\anaconda3\\lib\\site-packages\\ipykernel\\kernelbase.py\u001b[0m in \u001b[0;36m_input_request\u001b[1;34m(self, prompt, ident, parent, password)\u001b[0m\n\u001b[0;32m   1217\u001b[0m             \u001b[1;32mexcept\u001b[0m \u001b[0mKeyboardInterrupt\u001b[0m\u001b[1;33m:\u001b[0m\u001b[1;33m\u001b[0m\u001b[1;33m\u001b[0m\u001b[0m\n\u001b[0;32m   1218\u001b[0m                 \u001b[1;31m# re-raise KeyboardInterrupt, to truncate traceback\u001b[0m\u001b[1;33m\u001b[0m\u001b[1;33m\u001b[0m\u001b[0m\n\u001b[1;32m-> 1219\u001b[1;33m                 \u001b[1;32mraise\u001b[0m \u001b[0mKeyboardInterrupt\u001b[0m\u001b[1;33m(\u001b[0m\u001b[1;34m\"Interrupted by user\"\u001b[0m\u001b[1;33m)\u001b[0m \u001b[1;32mfrom\u001b[0m \u001b[1;32mNone\u001b[0m\u001b[1;33m\u001b[0m\u001b[1;33m\u001b[0m\u001b[0m\n\u001b[0m\u001b[0;32m   1220\u001b[0m             \u001b[1;32mexcept\u001b[0m \u001b[0mException\u001b[0m\u001b[1;33m:\u001b[0m\u001b[1;33m\u001b[0m\u001b[1;33m\u001b[0m\u001b[0m\n\u001b[0;32m   1221\u001b[0m                 \u001b[0mself\u001b[0m\u001b[1;33m.\u001b[0m\u001b[0mlog\u001b[0m\u001b[1;33m.\u001b[0m\u001b[0mwarning\u001b[0m\u001b[1;33m(\u001b[0m\u001b[1;34m\"Invalid Message:\"\u001b[0m\u001b[1;33m,\u001b[0m \u001b[0mexc_info\u001b[0m\u001b[1;33m=\u001b[0m\u001b[1;32mTrue\u001b[0m\u001b[1;33m)\u001b[0m\u001b[1;33m\u001b[0m\u001b[1;33m\u001b[0m\u001b[0m\n",
      "\u001b[1;31mKeyboardInterrupt\u001b[0m: Interrupted by user"
     ]
    }
   ],
   "source": [
    "import inflect\n",
    "\n",
    "p = inflect.engine()\n",
    "\n",
    "names = []\n",
    "\n",
    "while True:\n",
    "    try:\n",
    "        name = input(\"Name: \")\n",
    "        names.append(name)\n",
    "    except EOFError:\n",
    "        print()\n",
    "        mylist = p.join(names)\n",
    "        print(\"Adieu, adieu, to \" + mylist)\n",
    "        break"
   ]
  },
  {
   "cell_type": "code",
   "execution_count": 32,
   "id": "e31cf7d4",
   "metadata": {},
   "outputs": [
    {
     "name": "stdout",
     "output_type": "stream",
     "text": [
      "Name (Type [control-d] to end): mark\n",
      "Name (Type [control-d] to end): john\n",
      "Name (Type [control-d] to end): candice\n",
      "Name (Type [control-d] to end): vivian\n",
      "Name (Type [control-d] to end): control-d\n",
      "\n",
      "Adieu, adieu, to mark, john, candice, and vivian\n"
     ]
    }
   ],
   "source": [
    "# alternative for Jupyter Notebook:\n",
    "import inflect\n",
    "\n",
    "p = inflect.engine()\n",
    "\n",
    "names = []\n",
    "\n",
    "while True:\n",
    "    try:\n",
    "        name = input(\"Name (Type [control-d] to end): \")\n",
    "        if name.lower() == \"control-d\": break\n",
    "    except KeyboardInterrupt:\n",
    "        break\n",
    "    names.append(name)\n",
    "\n",
    "print()\n",
    "mylist = p.join(names)\n",
    "print(\"Adieu, adieu, to \" + mylist)"
   ]
  },
  {
   "cell_type": "markdown",
   "id": "ef52e09e",
   "metadata": {},
   "source": [
    "### Guessing Game\n",
    "\n",
    "I’m thinking of a number between 1 and 100…\n",
    "\n",
    "In a file called `game.py`, implement a program that:\n",
    "\n",
    "- Prompts the user for a level, n. If the user does not input a positive integer, the program should prompt again.\n",
    "- Randomly generates an integer between 1 and n, inclusive, using the `random` module.\n",
    "- Prompts the user to guess that integer. If the guess is not a positive integer, the program should prompt the user again.\n",
    "    - If the guess is smaller than that integer, the program should output `Too small!` and prompt the user again.\n",
    "    - If the guess is larger than that integer, the program should output `Too large!` and prompt the user again.\n",
    "    - If the guess is the same as that integer, the program should output `Just right!` and exit."
   ]
  },
  {
   "cell_type": "code",
   "execution_count": 34,
   "id": "8c43dcea",
   "metadata": {},
   "outputs": [
    {
     "name": "stdout",
     "output_type": "stream",
     "text": [
      "Level: 100\n",
      "Guess: 99\n",
      "Too large!\n",
      "Guess: 66\n",
      "Too small!\n",
      "Guess: 78\n",
      "Too small!\n",
      "Guess: 79\n",
      "Too small!\n",
      "Guess: 89\n",
      "Too small!\n",
      "Guess: 91\n",
      "Too small!\n",
      "Guess: 94\n",
      "Too small!\n",
      "Guess: 96\n",
      "Just right!\n"
     ]
    },
    {
     "ename": "KeyboardInterrupt",
     "evalue": "Interrupted by user",
     "output_type": "error",
     "traceback": [
      "\u001b[1;31m---------------------------------------------------------------------------\u001b[0m",
      "\u001b[1;31mKeyboardInterrupt\u001b[0m                         Traceback (most recent call last)",
      "\u001b[1;32m~\\AppData\\Local\\Temp\\ipykernel_12548\\2246845803.py\u001b[0m in \u001b[0;36m<module>\u001b[1;34m\u001b[0m\n\u001b[0;32m     33\u001b[0m \u001b[1;32mwhile\u001b[0m \u001b[1;32mTrue\u001b[0m\u001b[1;33m:\u001b[0m\u001b[1;33m\u001b[0m\u001b[1;33m\u001b[0m\u001b[0m\n\u001b[0;32m     34\u001b[0m     \u001b[1;32mtry\u001b[0m\u001b[1;33m:\u001b[0m\u001b[1;33m\u001b[0m\u001b[1;33m\u001b[0m\u001b[0m\n\u001b[1;32m---> 35\u001b[1;33m         \u001b[0mlevel\u001b[0m \u001b[1;33m=\u001b[0m \u001b[0mint\u001b[0m\u001b[1;33m(\u001b[0m\u001b[0minput\u001b[0m\u001b[1;33m(\u001b[0m\u001b[1;34m\"Level: \"\u001b[0m\u001b[1;33m)\u001b[0m\u001b[1;33m)\u001b[0m\u001b[1;33m\u001b[0m\u001b[1;33m\u001b[0m\u001b[0m\n\u001b[0m\u001b[0;32m     36\u001b[0m     \u001b[1;32mexcept\u001b[0m \u001b[0mValueError\u001b[0m\u001b[1;33m:\u001b[0m\u001b[1;33m\u001b[0m\u001b[1;33m\u001b[0m\u001b[0m\n\u001b[0;32m     37\u001b[0m         \u001b[1;32mcontinue\u001b[0m\u001b[1;33m\u001b[0m\u001b[1;33m\u001b[0m\u001b[0m\n",
      "\u001b[1;32m~\\anaconda3\\lib\\site-packages\\ipykernel\\kernelbase.py\u001b[0m in \u001b[0;36mraw_input\u001b[1;34m(self, prompt)\u001b[0m\n\u001b[0;32m   1175\u001b[0m                 \u001b[1;34m\"raw_input was called, but this frontend does not support input requests.\"\u001b[0m\u001b[1;33m\u001b[0m\u001b[1;33m\u001b[0m\u001b[0m\n\u001b[0;32m   1176\u001b[0m             )\n\u001b[1;32m-> 1177\u001b[1;33m         return self._input_request(\n\u001b[0m\u001b[0;32m   1178\u001b[0m             \u001b[0mstr\u001b[0m\u001b[1;33m(\u001b[0m\u001b[0mprompt\u001b[0m\u001b[1;33m)\u001b[0m\u001b[1;33m,\u001b[0m\u001b[1;33m\u001b[0m\u001b[1;33m\u001b[0m\u001b[0m\n\u001b[0;32m   1179\u001b[0m             \u001b[0mself\u001b[0m\u001b[1;33m.\u001b[0m\u001b[0m_parent_ident\u001b[0m\u001b[1;33m[\u001b[0m\u001b[1;34m\"shell\"\u001b[0m\u001b[1;33m]\u001b[0m\u001b[1;33m,\u001b[0m\u001b[1;33m\u001b[0m\u001b[1;33m\u001b[0m\u001b[0m\n",
      "\u001b[1;32m~\\anaconda3\\lib\\site-packages\\ipykernel\\kernelbase.py\u001b[0m in \u001b[0;36m_input_request\u001b[1;34m(self, prompt, ident, parent, password)\u001b[0m\n\u001b[0;32m   1217\u001b[0m             \u001b[1;32mexcept\u001b[0m \u001b[0mKeyboardInterrupt\u001b[0m\u001b[1;33m:\u001b[0m\u001b[1;33m\u001b[0m\u001b[1;33m\u001b[0m\u001b[0m\n\u001b[0;32m   1218\u001b[0m                 \u001b[1;31m# re-raise KeyboardInterrupt, to truncate traceback\u001b[0m\u001b[1;33m\u001b[0m\u001b[1;33m\u001b[0m\u001b[0m\n\u001b[1;32m-> 1219\u001b[1;33m                 \u001b[1;32mraise\u001b[0m \u001b[0mKeyboardInterrupt\u001b[0m\u001b[1;33m(\u001b[0m\u001b[1;34m\"Interrupted by user\"\u001b[0m\u001b[1;33m)\u001b[0m \u001b[1;32mfrom\u001b[0m \u001b[1;32mNone\u001b[0m\u001b[1;33m\u001b[0m\u001b[1;33m\u001b[0m\u001b[0m\n\u001b[0m\u001b[0;32m   1220\u001b[0m             \u001b[1;32mexcept\u001b[0m \u001b[0mException\u001b[0m\u001b[1;33m:\u001b[0m\u001b[1;33m\u001b[0m\u001b[1;33m\u001b[0m\u001b[0m\n\u001b[0;32m   1221\u001b[0m                 \u001b[0mself\u001b[0m\u001b[1;33m.\u001b[0m\u001b[0mlog\u001b[0m\u001b[1;33m.\u001b[0m\u001b[0mwarning\u001b[0m\u001b[1;33m(\u001b[0m\u001b[1;34m\"Invalid Message:\"\u001b[0m\u001b[1;33m,\u001b[0m \u001b[0mexc_info\u001b[0m\u001b[1;33m=\u001b[0m\u001b[1;32mTrue\u001b[0m\u001b[1;33m)\u001b[0m\u001b[1;33m\u001b[0m\u001b[1;33m\u001b[0m\u001b[0m\n",
      "\u001b[1;31mKeyboardInterrupt\u001b[0m: Interrupted by user"
     ]
    }
   ],
   "source": [
    "import random\n",
    "\n",
    "while True:\n",
    "    try:\n",
    "        level = int(input(\"Level: \"))\n",
    "        if level > 1:\n",
    "            break\n",
    "    except ValueError:\n",
    "        pass\n",
    "\n",
    "random_int = random.randint(1, level)\n",
    "\n",
    "while True:\n",
    "    try:\n",
    "        guess = int(input(\"Guess: \"))\n",
    "        if guess < 1:\n",
    "            continue\n",
    "        elif guess < random_int:\n",
    "            print(\"Too small!\")\n",
    "            continue\n",
    "        elif guess > random_int:\n",
    "            print(\"Too large!\")\n",
    "            continue\n",
    "        else:\n",
    "            print(\"Just right!\")\n",
    "            break\n",
    "    except ValueError:\n",
    "        pass\n",
    "\n",
    "# another way\n",
    "import random\n",
    "\n",
    "while True:\n",
    "    try:\n",
    "        level = int(input(\"Level: \"))\n",
    "    except ValueError:\n",
    "        continue\n",
    "    if level <= 0:\n",
    "        continue\n",
    "\n",
    "    num = random.randint(1, level)\n",
    "    break\n",
    "\n",
    "while True:\n",
    "    try:\n",
    "        guess = int(input(\"Guess: \"))\n",
    "        if guess <= 0:\n",
    "            continue\n",
    "    except ValueError:\n",
    "        continue\n",
    "\n",
    "    if guess < num:\n",
    "        print(\"Too small!\")\n",
    "    elif guess > num:\n",
    "        print(\"Too large!\")\n",
    "    else:\n",
    "        print(\"Just right!\")\n",
    "        break"
   ]
  },
  {
   "cell_type": "markdown",
   "id": "250f6f4d",
   "metadata": {},
   "source": [
    "### Little Professor\n",
    "One of David’s first toys as a child, funny enough, was Little Professor, a “calculator” that would generate ten different math problems for David to solve. For instance, if the toy were to display `4 + 0 = `, David would (hopefully) answer with `4`. If the toy were to display `4 + 1 = `, David would (hopefully) answer with `5`. If David were to answer incorrectly, the toy would display `EEE`. And after three incorrect answers for the same problem, the toy would simply display the correct answer (e.g., `4 + 0 = 4` or `4 + 1 = 5`).\n",
    "\n",
    "In a file called `professor.py`, implement a program that:\n",
    "- Prompts the user for a level, n. If the user does not input 1, 2, or 3, the program should prompt again.\n",
    "- Randomly generates ten (10) math problems formatted as `X + Y = `, wherein each of `X` and `Y` is a non-negative integer with n digits. No need to support operations other than addition (`+`).\n",
    "- Prompts the user to solve each of those problems. If an answer is not correct (or not even a number), the program should output `EEE` and prompt the user again, allowing the user up to three tries in total for that problem. If the user has still not answered correctly after three tries, the program should output the correct answer.\n",
    "- The program should ultimately output the user’s score: the number of correct answers out of 10.\n",
    "\n",
    "Structure your program as follows, wherein `get_level` prompts (and, if need be, re-prompts) the user for a level and returns `1`, `2`, or `3`, and `generate_integer` returns a randomly generated non-negative integer with `level` digits or raises a `ValueError` if `level` is not `1`, `2`, or `3`:\n",
    "\n",
    "`import random\n",
    "\n",
    "\n",
    "def main():\n",
    "    ...\n",
    "\n",
    "\n",
    "def get_level():\n",
    "    ...\n",
    "\n",
    "\n",
    "def generate_integer(level):\n",
    "    ...\n",
    "\n",
    "\n",
    "if __name__ == \"__main__\":\n",
    "    main()`"
   ]
  },
  {
   "cell_type": "code",
   "execution_count": null,
   "id": "5aefcfa3",
   "metadata": {},
   "outputs": [],
   "source": [
    "import random\n",
    "\n",
    "def main():\n",
    "    generate_integer(get_level())\n",
    "\n",
    "def get_level():\n",
    "    while true:\n",
    "        level = input(\"Level: \")\n",
    "        if level not in [\"1\", \"2\", \"3\"]:\n",
    "            continue\n",
    "        return level\n",
    "\n",
    "def generate_integer(level):\n",
    "    score = 0\n",
    "    for i in range(10):\n",
    "        trials = 1\n",
    "        if level == \"1\":\n",
    "            x = random.randint(0, 9)\n",
    "            y = random.randint(0, 9)\n",
    "        elif level == \"2\":\n",
    "            x = random.randint(10, 99)\n",
    "            y = random.randint(10, 99)\n",
    "        else:\n",
    "            x = random.randint(100, 999)\n",
    "            y = random.randint(100, 999)\n",
    "\n",
    "        while True:\n",
    "            print(f\"{x} + {y} = \", end=\"\")\n",
    "            answer = input()\n",
    "            if answer == str(x + y):\n",
    "                score += 1\n",
    "                break\n",
    "            elif answer != str(x + y) and trials != 3:\n",
    "                print(\"EEE\")\n",
    "                trials += 1\n",
    "                continue\n",
    "            else:\n",
    "                print(\"EEE\")\n",
    "                print(f\"{x} + {y} = {x + y}\")\n",
    "                break\n",
    "    print(score)\n",
    "\n",
    "if __name__ == \"__main__\":\n",
    "    main()"
   ]
  },
  {
   "cell_type": "markdown",
   "id": "69b4cfd2",
   "metadata": {},
   "source": [
    "### Bitcoin Price Index\n",
    "Bitcoin is a form of digitial currency, otherwise known as cryptocurrency. Rather than rely on a central authority like a bank, Bitcoin instead relies on a distributed network, otherwise known as a blockchain, to record transactions.\n",
    "\n",
    "Because there’s demand for Bitcoin (i.e., users want it), users are willing to buy it, as by exchanging one currency (e.g., USD) for Bitcoin.\n",
    "\n",
    "In a file called bitcoin.py, implement a program that:\n",
    "- Expects the user to specify as a command-line argument the number of Bitcoins, n, that they would like to buy. If that argument cannot be converted to a `float`, the program should exit via `sys.exit` with an error message.\n",
    "- Queries the API for the CoinDesk Bitcoin Price Index at https://api.coindesk.com/v1/bpi/currentprice.json, which returns a JSON object, among whose nested keys is the current price of Bitcoin as a `float`. Be sure to catch any exceptions, as with code like:\n",
    "\n",
    "`import requests\n",
    "\n",
    "try:\n",
    "    ...\n",
    "except requests.RequestException:\n",
    "    ...`\n",
    "    \n",
    "- Outputs the current cost of n Bitcoins in USD to four decimal places, using `,` as a thousands separator.\n",
    "\n",
    "**HINTS:**\n",
    "- Recall that the `sys` module comes with `argv`, per docs.python.org/3/library/sys.html#sys.argv.\n",
    "- Note that the `requests` module comes with quite a few methods, per requests.readthedocs.io/en/latest, among which are `get`, per requests.readthedocs.io/en/latest/user/quickstart/#make-a-request, and `json`, per requests.readthedocs.io/en/latest/user/quickstart/#json-response-content. You can install it with:\n",
    "`pip install requests`\n",
    "\n",
    "- Note that CoinDesk’s API returns a JSON response like:"
   ]
  },
  {
   "cell_type": "code",
   "execution_count": null,
   "id": "53f39308",
   "metadata": {},
   "outputs": [],
   "source": [
    "{\n",
    "   \"time\":{\n",
    "      \"updated\":\"May 2, 2022 15:27:00 UTC\",\n",
    "      \"updatedISO\":\"2022-05-02T15:27:00+00:00\",\n",
    "      \"updateduk\":\"May 2, 2022 at 16:27 BST\"\n",
    "   },\n",
    "   \"disclaimer\":\"This data was produced from the CoinDesk Bitcoin Price Index (USD). Non-USD currency data converted using hourly conversion rate from openexchangerates.org\",\n",
    "   \"chartName\":\"Bitcoin\",\n",
    "   \"bpi\":{\n",
    "      \"USD\":{\n",
    "         \"code\":\"USD\",\n",
    "         \"symbol\":\"&#36;\",\n",
    "         \"rate\":\"38,761.0833\",\n",
    "         \"description\":\"United States Dollar\",\n",
    "         \"rate_float\":38761.0833\n",
    "      },\n",
    "      \"GBP\":{\n",
    "         \"code\":\"GBP\",\n",
    "         \"symbol\":\"&pound;\",\n",
    "         \"rate\":\"30,827.6198\",\n",
    "         \"description\":\"British Pound Sterling\",\n",
    "         \"rate_float\":30827.6198\n",
    "      },\n",
    "      \"EUR\":{\n",
    "         \"code\":\"EUR\",\n",
    "         \"symbol\":\"&euro;\",\n",
    "         \"rate\":\"36,800.2764\",\n",
    "         \"description\":\"Euro\",\n",
    "         \"rate_float\":36800.2764\n",
    "      }\n",
    "   }\n",
    "}"
   ]
  },
  {
   "cell_type": "markdown",
   "id": "dfb0a3f0",
   "metadata": {},
   "source": [
    "- Recall that you can format USD to four decimal places with a thousands separator with code like:\n",
    "`print(f\"${amount:,.4f}\")`"
   ]
  },
  {
   "cell_type": "code",
   "execution_count": null,
   "id": "cee104a0",
   "metadata": {},
   "outputs": [],
   "source": [
    "import sys\n",
    "import requests\n",
    "\n",
    "if len(sys.argv) == 2:\n",
    "    try:\n",
    "        buy = float(sys.argv[1])\n",
    "    except ValueError:\n",
    "        sys.exit(\"Command-line argument is not a number.\")\n",
    "\n",
    "    else:\n",
    "        bitPI = requests.get(\"https://api.coindesk.com/v1/bpi/currentprice.json\")\n",
    "\n",
    "        bcoinPI = bitPI.json()\n",
    "        rate = bcoinPI[\"bpi\"][\"USD\"][\"rate_float\"]\n",
    "        print(f\"${buy * rate:,.4f}\")\n",
    "\n",
    "else:\n",
    "    sys.exit(\"Missing command-line argument\")"
   ]
  },
  {
   "cell_type": "markdown",
   "id": "e42e97e0",
   "metadata": {},
   "source": [
    "# Unit Tests\n",
    "\n",
    "### Testing my twttr\n",
    "In a file called `twttr.py`, reimplement Setting up my twttr from Problem Set 2, restructuring your code per the below, wherein `shorten` expects a `str` as input and returns that same `str` but with all vowels (A, E, I, O, and U) omitted, whether inputted in uppercase or lowercase."
   ]
  },
  {
   "cell_type": "code",
   "execution_count": null,
   "id": "2b1d71df",
   "metadata": {},
   "outputs": [],
   "source": [
    "def main():\n",
    "    ...\n",
    "\n",
    "\n",
    "def shorten(word):\n",
    "    ...\n",
    "\n",
    "\n",
    "if __name__ == \"__main__\":\n",
    "    main()"
   ]
  },
  {
   "cell_type": "markdown",
   "id": "bdf39c8a",
   "metadata": {},
   "source": [
    "Then, in a file called `test_twttr.py`, implement **one or more** functions that collectively test your implementation of `shorten` thoroughly, each of whose names should begin with `test_` so that you can execute your tests with:\n",
    "\n",
    "`pytest test_twttr.py`"
   ]
  },
  {
   "cell_type": "code",
   "execution_count": null,
   "id": "5da10e68",
   "metadata": {},
   "outputs": [],
   "source": [
    "def main():\n",
    "    u_inp = input('Input: ')\n",
    "    # print(\"Output:\", shorten(u_inp))\n",
    "    print(shorten(u_inp))\n",
    "\n",
    "\n",
    "\n",
    "def shorten(word):\n",
    "    #wherein shorten expects a str as input and returns\n",
    "    # that same str but with all vowels (A, E, I, O, and U)\n",
    "    # omitted, whether inputted in uppercase or lowercase.\n",
    "    twttr_ver = list()\n",
    "    for letter in word:\n",
    "        if not letter.lower() in ['a', 'e', 'i', 'o', 'u']:\n",
    "            twttr_ver.append(letter)\n",
    "            \n",
    "    f_version = ''.join(twttr_ver)    \n",
    "    \n",
    "    return f_version\n",
    "\n",
    "\n",
    "if __name__ == \"__main__\":\n",
    "    main()"
   ]
  },
  {
   "cell_type": "code",
   "execution_count": null,
   "id": "8f8459d3",
   "metadata": {},
   "outputs": [],
   "source": [
    "# test_twttr\n",
    "from twttr import shorten\n",
    "\n",
    "\n",
    "def test_vowels():\n",
    "    vowel = [\"a\", \"e\", \"i\", \"o\", \"u\", \"A\", \"E\", \"I\", \"O\", \"U\"]\n",
    "    assert shorten(vowel) == \"\"\n",
    "\n",
    "def test_consonants():\n",
    "    assert shorten(\"b\") == \"b\"\n",
    "    assert shorten(\"j\") == \"j\"\n",
    "    assert shorten(\"Zed\") == \"Zd\"\n",
    "\n",
    "def test_numbers():\n",
    "    assert shorten(\"1-10\") == \"1-10\"\n",
    "\n",
    "def test_punctuation():\n",
    "    assert shorten(\".?_\") == \".?_\"\n",
    "\n",
    "# alternatively:\n",
    "# assert shorten(\"hello\") == \"hll\"\n",
    "# assert shorten(\"hello, WORLD50\") == \"hll, WRLD50\"\n",
    "# etc."
   ]
  },
  {
   "cell_type": "markdown",
   "id": "d4496123",
   "metadata": {},
   "source": [
    "### Back to the Bank\n",
    "In a file called `bank.py`, reimplement Home Federal Savings Bank from Problem Set 1, restructuring your code per the below, wherein `value` expects a `str` as input and returns `0` if that `str` starts with “hello”, `20` if that `str` starts with an “h” (but not “hello”), or `100` otherwise, treating the str case-insensitively. You can assume that the string passed to the `value` function will not contain any leading spaces. Only `main` should call `print.`"
   ]
  },
  {
   "cell_type": "code",
   "execution_count": null,
   "id": "48d67220",
   "metadata": {},
   "outputs": [],
   "source": [
    "def main():\n",
    "    ...\n",
    "\n",
    "\n",
    "def value(greeting):\n",
    "    ...\n",
    "\n",
    "\n",
    "if __name__ == \"__main__\":\n",
    "    main()"
   ]
  },
  {
   "cell_type": "markdown",
   "id": "2e14590e",
   "metadata": {},
   "source": [
    "Then, in a file called `test_bank.py`, implement **three or more** functions that collectively test your implementation of `value` thoroughly, each of whose names should begin with `test_` so that you can execute your tests with:\n",
    "\n",
    "`pytest test_bank.py`"
   ]
  },
  {
   "cell_type": "code",
   "execution_count": null,
   "id": "d6493ad4",
   "metadata": {},
   "outputs": [],
   "source": [
    "#bank.py:\n",
    "def main():\n",
    "    greeting = input('Greeting: ')\n",
    "    print(value(greeting))\n",
    "\n",
    "\n",
    "def value(greeting):\n",
    "    fgreeting = greeting.strip().lower().replace(' ', '.')\n",
    "    if fgreeting.startswith('hello'):\n",
    "        return 0\n",
    "    elif fgreeting.startswith('h'):\n",
    "        return 20\n",
    "    else:\n",
    "        return 100\n",
    "\n",
    "\n",
    "if __name__ == \"__main__\":\n",
    "    main()\n",
    "\n",
    "\n",
    "#greeting = input('Greeting: ').strip().lower()\n",
    "#fgreeting = greeting.replace(' ', '.')\n",
    "#if fgreeting.startswith('hello'):\n",
    "#    print('$0')\n",
    "#elif fgreeting.startswith('h'):\n",
    "#    print('$20')\n",
    "#else:\n",
    "#    print('$100')"
   ]
  },
  {
   "cell_type": "code",
   "execution_count": null,
   "id": "1ab98857",
   "metadata": {},
   "outputs": [],
   "source": [
    "#test_bank.py\n",
    "from bank import value\n",
    "\n",
    "def test_hello():\n",
    "    assert value(\"helLo\") == 0\n",
    "\n",
    "def test_HnotHello():\n",
    "    assert value(\"hey! What's up?\") == 20\n",
    "\n",
    "def test_notHello():\n",
    "    assert value(\"What's up?\") == 100"
   ]
  },
  {
   "cell_type": "markdown",
   "id": "d79ba960",
   "metadata": {},
   "source": [
    "### Re-requesting a Vanity Plate\n",
    "In a file called `plates.py`, reimplement Vanity Plates from Problem Set 2, restructuring your code per the below, wherein is_valid still expects a `str` as input and returns `True` if that `str` meets all requirements and `False` if it does not, but `main` is only called if the value of `__name__` is `\"__main__\"`:"
   ]
  },
  {
   "cell_type": "code",
   "execution_count": null,
   "id": "5b961862",
   "metadata": {},
   "outputs": [],
   "source": [
    "def main():\n",
    "    ...\n",
    "\n",
    "\n",
    "def is_valid(s):\n",
    "    ...\n",
    "\n",
    "\n",
    "if __name__ == \"__main__\":\n",
    "    main()"
   ]
  },
  {
   "cell_type": "markdown",
   "id": "b02571fe",
   "metadata": {},
   "source": [
    "Then, in a file called `test_plates.py`, implement **four or more** functions that collectively test your implementation of `is_valid` thoroughly, each of whose names should begin with `test_` so that you can execute your tests with:\n",
    "\n",
    "`pytest test_plates.py`"
   ]
  },
  {
   "cell_type": "code",
   "execution_count": null,
   "id": "4660e630",
   "metadata": {},
   "outputs": [],
   "source": [
    "# plates.py:\n",
    "def main():\n",
    "    plate = input(\"Plate: \")\n",
    "    if is_valid(plate):\n",
    "        print(\"Valid\")\n",
    "    else:\n",
    "        print(\"Invalid\")\n",
    "\n",
    "\n",
    "def is_valid(s):\n",
    "    if 6 >=len(s) >= 2 and s[0:2].isalpha() and s.isalnum():\n",
    "        for char in s:\n",
    "            if char.isdigit():\n",
    "                index = s.index(char)\n",
    "                if s[index:].isdigit() and int(char) != 0:\n",
    "                    return True\n",
    "                else:\n",
    "                    return False\n",
    "        return True\n",
    "    else:\n",
    "        return False\n",
    "\n",
    "\n",
    "if __name__ == \"__main__\":\n",
    "    main()"
   ]
  },
  {
   "cell_type": "code",
   "execution_count": null,
   "id": "4468000f",
   "metadata": {},
   "outputs": [],
   "source": [
    "# test_plates.py\n",
    "from plates import is_valid\n",
    "\n",
    "def test_length():\n",
    "    assert is_valid(\"a\") == False\n",
    "    assert is_valid(\"1A2B3c.4491\") == False\n",
    "\n",
    "\n",
    "def test_first2alpha():\n",
    "    assert is_valid(\"aB\") == True\n",
    "    assert is_valid(\"H2F5!9\") == False\n",
    "\n",
    "\n",
    "def test_firstNumNot0():\n",
    "    assert is_valid(\"ty12\") == True\n",
    "    assert is_valid(\"ff089y\") == False\n",
    "\n",
    "\n",
    "def test_endingNum():\n",
    "    assert is_valid(\"gt541\") == True\n",
    "    assert is_valid(\"gt541p\") == False"
   ]
  },
  {
   "cell_type": "markdown",
   "id": "96ff7165",
   "metadata": {},
   "source": [
    "### Refueling\n",
    "In a file called `fuel.py`, reimplement Fuel Gauge from Problem Set 3, restructuring your code per the below, wherein:\n",
    "\n",
    "- `convert` expects a `str` in `X/Y` format as input, wherein each of X and Y is an integer, and returns that fraction as a percentage rounded to the nearest `int` between `0` and `100`, inclusive. If `X` and/or `Y` is not an integer, or if `X` is greater than `Y`, then `convert` should raise a `ValueError`. If `Y` is `0`, then `convert` should raise a `ZeroDivisionError`.\n",
    "- `gauge` expects an `int` and returns a `str` that is:\n",
    "    - `\"E\"` if that `int` is less than or equal to `1`,\n",
    "    - `\"F\"` if that `int` is greater than or equal to `99`,\n",
    "    - and `\"Z%\"` otherwise, wherein `Z` is that same `int`."
   ]
  },
  {
   "cell_type": "code",
   "execution_count": null,
   "id": "98f981f0",
   "metadata": {},
   "outputs": [],
   "source": [
    "def main():\n",
    "    ...\n",
    "\n",
    "\n",
    "def convert(fraction):\n",
    "    ...\n",
    "\n",
    "\n",
    "def gauge(percentage):\n",
    "    ...\n",
    "\n",
    "\n",
    "if __name__ == \"__main__\":\n",
    "    main()"
   ]
  },
  {
   "cell_type": "markdown",
   "id": "1b7424df",
   "metadata": {},
   "source": [
    "Then, in a file called `test_fuel.py`, implement **two or more** functions that collectively test your implementations of `convert` and `gauge` thoroughly, each of whose names should begin with `test_` so that you can execute your tests with:\n",
    "\n",
    "`pytest test_fuel.py`"
   ]
  },
  {
   "cell_type": "code",
   "execution_count": null,
   "id": "96011eb4",
   "metadata": {},
   "outputs": [],
   "source": [
    "# fuel.py:\n",
    "def main():\n",
    "    fraction = input(\"Fraction: \")\n",
    "    percentage = convert(fraction)\n",
    "    print(gauge(percentage))\n",
    "\n",
    "\n",
    "def convert(fraction):\n",
    "    while True:\n",
    "        index = fraction.find(\"/\")\n",
    "        try:\n",
    "            numerator = int(fraction[:index])\n",
    "            denominator = int(fraction[index+1:])\n",
    "            percent = numerator / denominator\n",
    "            if numerator > denominator:\n",
    "                fraction = input(\"Fraction: \")\n",
    "                continue\n",
    "            else:\n",
    "                percentage = int(percent * 100)\n",
    "                return percentage\n",
    "        except (ValueError, ZeroDivisionError):\n",
    "            continue\n",
    "\n",
    "\n",
    "def gauge(percentage):\n",
    "    if percentage <= 1:\n",
    "        return \"E\"\n",
    "    elif percentage >= 99:\n",
    "       return \"F\"\n",
    "    else:\n",
    "        return f\"{percentage}%\"\n",
    "\n",
    "\n",
    "if __name__ == \"__main__\":\n",
    "    main()"
   ]
  },
  {
   "cell_type": "code",
   "execution_count": null,
   "id": "b0728062",
   "metadata": {},
   "outputs": [],
   "source": [
    "# test_fuel.py\n",
    "from fuel import convert, gauge\n",
    "import pytest\n",
    "\n",
    "def test_fuel():\n",
    "    assert convert(\"1/2\") == 50\n",
    "    assert gauge(50) == \"50%\"\n",
    "    assert gauge(99) == \"F\"\n",
    "    assert gauge(1) == \"E\"\n",
    "\n",
    "\n",
    "def test_errors():\n",
    "    with pytest.raises(ZeroDivisionError):\n",
    "        convert(\"1/0\")\n",
    "    with pytest.raises(ValueError):\n",
    "        convert(\"cat/dog\")"
   ]
  },
  {
   "cell_type": "markdown",
   "id": "bee31288",
   "metadata": {},
   "source": [
    "# File I/0\n",
    "\n",
    "### Pizza Py\n",
    "Perhaps the most popular place for pizza in Harvard Square is Pinocchio’s Pizza & Subs, aka Noch’s, known for its Sicilian pizza, which is “a deep-dish or thick-crust pizza.”\n",
    "\n",
    "Students tend to buy pizza by the slice, but Pinocchio’s also has whole pizzas on its menu too, per this CSV file of Sicilian pizzas, sicilian.csv, below:\n",
    "\n",
    "`Sicilian Pizza,Small,Large\n",
    "Cheese,$25.50,$39.95\n",
    "1 item,$27.50,$41.95\n",
    "2 items,$29.50,$43.95\n",
    "3 items,$31.50,$45.95\n",
    "Special,$33.50,$47.95`\n",
    "\n",
    "See regular.csv for a CSV file of regular pizzas as well.\n",
    "\n",
    "Of course, a CSV file isn’t the most customer-friendly format to look at. Prettier might be a table, formatted as ASCII art, like this one:\n",
    "\n",
    "`+------------------+---------+---------+\n",
    "| Sicilian Pizza   | Small   | Large   |\n",
    "+==================+=========+=========+\n",
    "| Cheese           | $25.50  | $39.95  |\n",
    "+------------------+---------+---------+\n",
    "| 1 item           | $27.50  | $41.95  |\n",
    "+------------------+---------+---------+\n",
    "| 2 items          | $29.50  | $43.95  |\n",
    "+------------------+---------+---------+\n",
    "| 3 items          | $31.50  | $45.95  |\n",
    "+------------------+---------+---------+\n",
    "| Special          | $33.50  | $47.95  |\n",
    "+------------------+---------+---------+`\n",
    "\n",
    "\n",
    "In a file called `pizza.py`, implement a program that expects exactly one command-line argument, the name (or path) of a CSV file in Pinocchio’s format, and outputs a table formatted as ASCII art using `tabulate`, a package on PyPI at pypi.org/project/tabulate. Format the table using the library’s `grid` format. If the user does not specify exactly one command-line argument, or if the specified file’s name does not end in `.csv`, or if the specified file does not exist, the program should instead exit via `sys.exit`."
   ]
  },
  {
   "cell_type": "code",
   "execution_count": null,
   "id": "f3ccd2fa",
   "metadata": {},
   "outputs": [],
   "source": [
    "# regular.csv\n",
    "Regular Pizza,Small,Large\n",
    "Cheese,$13.50,$18.95\n",
    "1 topping,$14.75,$20.95\n",
    "2 toppings,$15.95,$22.95\n",
    "3 toppings,$16.95,$24.95\n",
    "Special,$18.50,$26.95\n",
    "\n",
    "# sivilian.csv\n",
    "Sicilian Pizza,Small,Large\n",
    "Cheese,$25.50,$39.95\n",
    "1 item,$27.50,$41.95\n",
    "2 items,$29.50,$43.95\n",
    "3 items,$31.50,$45.95\n",
    "Special,$33.50,$47.95\n"
   ]
  },
  {
   "cell_type": "code",
   "execution_count": null,
   "id": "f3200006",
   "metadata": {},
   "outputs": [],
   "source": [
    "# pizza.py:\n",
    "import sys\n",
    "import csv\n",
    "from tabulate import tabulate\n",
    "\n",
    "\n",
    "def main():\n",
    "    check_commandarg()\n",
    "    try:\n",
    "        menu_dict = read_menu(sys.argv[1])\n",
    "    except FileNotFoundError:\n",
    "        sys.exit(\"File not found.\")\n",
    "    else:\n",
    "        print(ASCII(menu_dict))\n",
    "\n",
    "\n",
    "def check_commandarg():\n",
    "    if len(sys.argv) == 2:\n",
    "        if \".csv\" not in sys.argv[1]:\n",
    "            sys.exit(\"Not a CSV file\")\n",
    "    elif len(sys.argv) < 2:\n",
    "        sys.exit(\"Too few command-line arguments.\")\n",
    "    elif len(sys.argv) > 2:\n",
    "        sys.exit(\"Too many command-line arguments.\")\n",
    "\n",
    "\n",
    "def read_menu(filename):\n",
    "    menu = []\n",
    "    with open(filename) as file:\n",
    "        reader = csv.DictReader(file)\n",
    "        for row in reader:\n",
    "            menu.append(row)\n",
    "    return menu\n",
    "\n",
    "\n",
    "def ASCII(dict):\n",
    "    return tabulate(dict, headers=\"keys\", tablefmt=\"grid\")\n",
    "\n",
    "\n",
    "if __name__ == \"__main__\":\n",
    "    main()"
   ]
  },
  {
   "cell_type": "markdown",
   "id": "f0fef6fe",
   "metadata": {},
   "source": [
    "### Scourgify\n",
    "`“Ah, well,” said Tonks, slamming the trunk’s lid shut, “at least it’s all in. That could do with a bit of cleaning, too.” She pointed her wand at Hedwig’s cage. “Scourgify.” A few feathers and droppings vanished.\n",
    "— Harry Potter and the Order of the Phoenix`\n",
    "\n",
    "Data, too, often needs to be “cleaned,” as by reformatting it, so that values are in a consistent, if not more convenient, format. Consider, for instance, this CSV file of students, before.csv, below:\n",
    "\n",
    "`name,house\n",
    "\"Abbott, Hannah\",Hufflepuff\n",
    "\"Bell, Katie\",Gryffindor\n",
    "\"Bones, Susan\",Hufflepuff\n",
    "\"Boot, Terry\",Ravenclaw\n",
    "\"Brown, Lavender\",Gryffindor\n",
    "\"Bulstrode, Millicent\",Slytherin\n",
    "\"Chang, Cho\",Ravenclaw\n",
    "\"Clearwater, Penelope\",Ravenclaw\n",
    "\"Crabbe, Vincent\",Slytherin\n",
    "\"Creevey, Colin\",Gryffindor\n",
    "\"Creevey, Dennis\",Gryffindor\n",
    "\"Diggory, Cedric\",Hufflepuff\n",
    "\"Edgecombe, Marietta\",Ravenclaw\n",
    "\"Finch-Fletchley, Justin\",Hufflepuff\n",
    "\"Finnigan, Seamus\",Gryffindor\n",
    "\"Goldstein, Anthony\",Ravenclaw\n",
    "\"Goyle, Gregory\",Slytherin\n",
    "\"Granger, Hermione\",Gryffindor\n",
    "\"Johnson, Angelina\",Gryffindor\n",
    "\"Jordan, Lee\",Gryffindor\n",
    "\"Longbottom, Neville\",Gryffindor\n",
    "\"Lovegood, Luna\",Ravenclaw\n",
    "\"Lupin, Remus\",Gryffindor\n",
    "\"Malfoy, Draco\",Slytherin\n",
    "\"Malfoy, Scorpius\",Slytherin\n",
    "\"Macmillan, Ernie\",Hufflepuff\n",
    "\"McGonagall, Minerva\",Gryffindor\n",
    "\"Midgen, Eloise\",Gryffindor\n",
    "\"McLaggen, Cormac\",Gryffindor\n",
    "\"Montague, Graham\",Slytherin\n",
    "\"Nott, Theodore\",Slytherin\n",
    "\"Parkinson, Pansy\",Slytherin\n",
    "\"Patil, Padma\",Gryffindor\n",
    "\"Patil, Parvati\",Gryffindor\n",
    "\"Potter, Harry\",Gryffindor\n",
    "\"Riddle, Tom\",Slytherin\n",
    "\"Robins, Demelza\",Gryffindor\n",
    "\"Scamander, Newt\",Hufflepuff\n",
    "\"Slughorn, Horace\",Slytherin\n",
    "\"Smith, Zacharias\",Hufflepuff\n",
    "\"Snape, Severus\",Slytherin\n",
    "\"Spinnet, Alicia\",Gryffindor\n",
    "\"Sprout, Pomona\",Hufflepuff\n",
    "\"Thomas, Dean\",Gryffindor\n",
    "\"Vane, Romilda\",Gryffindor\n",
    "\"Warren, Myrtle\",Ravenclaw\n",
    "\"Weasley, Fred\",Gryffindor\n",
    "\"Weasley, George\",Gryffindor\n",
    "\"Weasley, Ginny\",Gryffindor\n",
    "\"Weasley, Percy\",Gryffindor\n",
    "\"Weasley, Ron\",Gryffindor\n",
    "\"Wood, Oliver\",Gryffindor\n",
    "\"Zabini, Blaise\",Slytherin`\n",
    "\n",
    "Source: en.wikipedia.org/wiki/List_of_Harry_Potter_characters\n",
    "\n",
    "Even though each “row” in the file has three values (last name, first name, and house), the first two are combined into one “column” (name), escaped with double quotes, with last name and first name separated by a comma and space. Not ideal if Hogwarts wants to send a form letter to each student, as via mail merge, since it’d be strange to start a letter with:\n",
    "\n",
    "`Dear Potter, Harry,`\n",
    "\n",
    "Rather than with, for instance:\n",
    "\n",
    "`Dear Harry,`\n",
    "\n",
    "\n",
    "In a file called `scourgify.py`, implement a program that:\n",
    "\n",
    "- Expects the user to provide two command-line arguments:\n",
    "    - the name of an existing CSV file to read as input, whose columns are assumed to be, in order, `name` and `house`, and\n",
    "    - the name of a new CSV to write as output, whose columns should be, in order, `first`, `last`, and `house`.\n",
    "- Converts that input to that output, splitting each `name` into a `first` name and `last` name. Assume that each student will have both a first name and last name.\n",
    "\n",
    "\n",
    "If the user does not provide exactly two command-line arguments, or if the first cannot be read, the program should exit via `sys.exit` with an error message.\n",
    "\n",
    "\n",
    "**HINTS:**\n",
    "- Note that `csv` module comes with quite a few methods, per docs.python.org/3/library/csv.html, among which are `DictReader`, per docs.python.org/3/library/csv.html#csv.DictReader and `DictWriter`, per docs.python.org/3/library/csv.html#csv.DictWriter.\n",
    "- Note that you can tell a `DictWriter` to write its `fieldnames` to a file using `writeheader` with no arguments, per docs.python.org/3/library/csv.html#csv.DictWriter.writeheader."
   ]
  },
  {
   "cell_type": "code",
   "execution_count": null,
   "id": "d2643e36",
   "metadata": {},
   "outputs": [],
   "source": [
    "# before.csv\n",
    "name,house\n",
    "\"Abbott, Hannah\",Hufflepuff\n",
    "\"Bell, Katie\",Gryffindor\n",
    "\"Bones, Susan\",Hufflepuff\n",
    "\"Boot, Terry\",Ravenclaw\n",
    "\"Brown, Lavender\",Gryffindor\n",
    "\"Bulstrode, Millicent\",Slytherin\n",
    "\"Chang, Cho\",Ravenclaw\n",
    "\"Clearwater, Penelope\",Ravenclaw\n",
    "\"Crabbe, Vincent\",Slytherin\n",
    "\"Creevey, Colin\",Gryffindor\n",
    "\"Creevey, Dennis\",Gryffindor\n",
    "\"Diggory, Cedric\",Hufflepuff\n",
    "\"Edgecombe, Marietta\",Ravenclaw\n",
    "\"Finch-Fletchley, Justin\",Hufflepuff\n",
    "\"Finnigan, Seamus\",Gryffindor\n",
    "\"Goldstein, Anthony\",Ravenclaw\n",
    "\"Goyle, Gregory\",Slytherin\n",
    "\"Granger, Hermione\",Gryffindor\n",
    "\"Johnson, Angelina\",Gryffindor\n",
    "\"Jordan, Lee\",Gryffindor\n",
    "\"Longbottom, Neville\",Gryffindor\n",
    "\"Lovegood, Luna\",Ravenclaw\n",
    "\"Lupin, Remus\",Gryffindor\n",
    "\"Malfoy, Draco\",Slytherin\n",
    "\"Malfoy, Scorpius\",Slytherin\n",
    "\"Macmillan, Ernie\",Hufflepuff\n",
    "\"McGonagall, Minerva\",Gryffindor\n",
    "\"Midgen, Eloise\",Gryffindor\n",
    "\"McLaggen, Cormac\",Gryffindor\n",
    "\"Montague, Graham\",Slytherin\n",
    "\"Nott, Theodore\",Slytherin\n",
    "\"Parkinson, Pansy\",Slytherin\n",
    "\"Patil, Padma\",Gryffindor\n",
    "\"Patil, Parvati\",Gryffindor\n",
    "\"Potter, Harry\",Gryffindor\n",
    "\"Riddle, Tom\",Slytherin\n",
    "\"Robins, Demelza\",Gryffindor\n",
    "\"Scamander, Newt\",Hufflepuff\n",
    "\"Slughorn, Horace\",Slytherin\n",
    "\"Smith, Zacharias\",Hufflepuff\n",
    "\"Snape, Severus\",Slytherin\n",
    "\"Spinnet, Alicia\",Gryffindor\n",
    "\"Sprout, Pomona\",Hufflepuff\n",
    "\"Thomas, Dean\",Gryffindor\n",
    "\"Vane, Romilda\",Gryffindor\n",
    "\"Warren, Myrtle\",Ravenclaw\n",
    "\"Weasley, Fred\",Gryffindor\n",
    "\"Weasley, George\",Gryffindor\n",
    "\"Weasley, Ginny\",Gryffindor\n",
    "\"Weasley, Percy\",Gryffindor\n",
    "\"Weasley, Ron\",Gryffindor\n",
    "\"Wood, Oliver\",Gryffindor\n",
    "\"Zabini, Blaise\",Slytherin\n"
   ]
  },
  {
   "cell_type": "code",
   "execution_count": null,
   "id": "6e635c32",
   "metadata": {},
   "outputs": [],
   "source": [
    "import sys\n",
    "import csv\n",
    "\n",
    "\n",
    "def main():\n",
    "    check_commandarg()\n",
    "    output = []\n",
    "    try:\n",
    "        with open(sys.argv[1], 'r') as file:\n",
    "                reader = csv.DictReader(file)\n",
    "                for row in reader:\n",
    "                    split_name = row['name'].split(',')\n",
    "                    output.append({'first': split_name[1].lstrip(), 'last':split_name[0], 'house': row['house']})\n",
    "    except FileNotFoundError:\n",
    "        sys.exit(f'Could not read {sys.argv[a]}')\n",
    "\n",
    "        # open new csv file\n",
    "    with open(sys.argv[2], 'w') as file2:\n",
    "        writer = csv.DictWriter(file2, fieldnames=['first', 'last', 'house'])\n",
    "        writer.writerow({'first': 'first', 'last': 'last', 'house': 'house'})\n",
    "        for row in output:\n",
    "            writer.writerow({'first': row['first'], 'last': row['last'], 'house': row['house']})\n",
    "\n",
    "\n",
    "def check_commandarg():\n",
    "    if len(sys.argv) == 3:\n",
    "        if '.csv' not in sys.argv[1]: #or sys.arvg[1] != 'before.csv':\n",
    "            sys.exit('Not a CSV file')\n",
    "    elif len(sys.argv) < 3:\n",
    "        sys.exit('Too few command-line arguments.')\n",
    "    elif len(sys.argv) > 3:\n",
    "        sys.exit('Too many command-line arguments.')\n",
    "\n",
    "\n",
    "if __name__ == \"__main__\":\n",
    "    main()"
   ]
  },
  {
   "cell_type": "markdown",
   "id": "ef862ed1",
   "metadata": {},
   "source": [
    "# Regular Expressions\n",
    "\n",
    "### NUMB3RS\n",
    "In Season 5, Episode 23 of NUMB3RS, a supposed IP address appears on screen, `275.3.6.28`, which isn’t actually a valid IPv4 (or IPv6) address.\n",
    "\n",
    "An IPv4 address is a numeric identifier that a device (or, on TV, hacker) uses to communicate on the internet, akin to a postal address in the real world, typically formatted in dot-decimal notation as `#.#.#.#`. But each `#` should be a number between `0` and `255`, inclusive. Suffice it to say `275` is not in that range! If only NUMB3RS had validated the address in that scene!\n",
    "\n",
    "In a file called `numb3rs.py`, implement a function called `validate` that expects an IPv4 address as input as a str and then returns `True` or `False`, respectively, if that input is a valid IPv4 address or not.\n",
    "\n",
    "Structure `numb3rs.py` as follows, wherein you’re welcome to modify `main` and/or implement other functions as you see fit, but you may not import any other libraries. You’re welcome, but not required, to use `re` and/or `sys`."
   ]
  },
  {
   "cell_type": "code",
   "execution_count": null,
   "id": "374dfc9e",
   "metadata": {},
   "outputs": [],
   "source": [
    "# numb3rs.py:\n",
    "import re\n",
    "\n",
    "\n",
    "def main():\n",
    "    print(validate(input(\"IPv4 Address: \")))\n",
    "\n",
    "\n",
    "def validate(ip):\n",
    "    if re.fullmatch(r\"([01]?[0-9][0-9]?|2[0-4][0-9]|25[0-5])\\.([01]?[0-9][0-9]?|2[0-4][0-9]|25[0-5])\\.([01]?[0-9][0-9]?|2[0-4][0-9]|25[0-5])\\.([01]?[0-9][0-9]?|2[0-4][0-9]|25[0-5])\", ip):\n",
    "        return True\n",
    "    else: return False\n",
    "\n",
    "\n",
    "if __name__ == \"__main__\":\n",
    "    main()"
   ]
  },
  {
   "cell_type": "code",
   "execution_count": null,
   "id": "905fc942",
   "metadata": {},
   "outputs": [],
   "source": [
    "# test_numb3rs.py:\n",
    "from numb3rs import validate\n",
    "\n",
    "def test_validate_true():\n",
    "    assert validate(\"0.0.0.0\") == True\n",
    "    assert validate(\"1.2.3.4\") == True\n",
    "    assert validate(\"255.255.255.255\") == True\n",
    "\n",
    "\n",
    "def test_validate_nottrue():\n",
    "    assert validate(\"299\") == False\n",
    "    assert validate(\"1.2.3.4.5\") == False\n",
    "    assert validate(\"256.255.255.255\") == False"
   ]
  },
  {
   "cell_type": "markdown",
   "id": "c0692034",
   "metadata": {},
   "source": [
    "### Watch on YouTube\n",
    "It turns out that (most) YouTube videos can be embedded in other websites, just like the above. For instance, if you visit https://youtu.be/xvFZjo5PgG0 on a laptop or desktop, click **Share**, and then click **Embed**, you’ll see HTML (the language in which web pages are written) like the below, which you could then copy into your own website’s source code, wherein `iframe` is an HTML “element,” and `src` is one of several HTML “attributes” therein, the value of which, between quotes, is `https://www.youtube.com/embed/xvFZjo5PgG0`.\n",
    "\n",
    "`<iframe width=\"560\" height=\"315\" src=\"https://www.youtube.com/embed/xvFZjo5PgG0\" title=\"YouTube video player\" frameborder=\"0\" allow=\"accelerometer; autoplay; clipboard-write; encrypted-media; gyroscope; picture-in-picture\" allowfullscreen></iframe>`\n",
    "\n",
    "Because some HTML attributes are optional, you could instead minimally embed just the below.\n",
    "\n",
    "`<iframe src=\"https://www.youtube.com/embed/xvFZjo5PgG0\"></iframe>`\n",
    "\n",
    "Suppose that you’d like to extract the URLs of YouTube videos that are embedded in pages (e.g., `https://www.youtube.com/embed/xvFZjo5PgG0`), converting them back to shorter, shareable `youtu.be` URLs (e.g., `https://youtu.be/xvFZjo5PgG0`) where they can be watched on YouTube itself.\n",
    "\n",
    "In a file called `watch.py`, implement a function called `parse` that expects a `str` of HTML as input, extracts any YouTube URL that’s the value of a src attribute of an iframe element therein, and returns its shorter, shareable youtu.be equivalent as a str. Expect that any such URL will be in one of the formats below. Assume that the value of `src` will be surrounded by double quotes. And assume that the input will contain no more than one such URL. If the input does not contain any such URL at all, return `None`.\n",
    "\n",
    "- `http://youtube.com/embed/xvFZjo5PgG0`\n",
    "- `https://youtube.com/embed/xvFZjo5PgG0`\n",
    "- `https://www.youtube.com/embed/xvFZjo5PgG0`\n",
    "\n",
    "Structure `watch.py` as follows, wherein you’re welcome to modify `main` and/or implement other functions as you see fit, but you may not import any other libraries. You’re welcome, but not required, to `use` re and/or `sys`."
   ]
  },
  {
   "cell_type": "code",
   "execution_count": null,
   "id": "ea13b688",
   "metadata": {},
   "outputs": [],
   "source": [
    "import re\n",
    "import sys\n",
    "\n",
    "\n",
    "def main():\n",
    "    print(parse(input(\"HTML: \")))\n",
    "\n",
    "\n",
    "def parse(s):\n",
    "    ...\n",
    "\n",
    "\n",
    "...\n",
    "\n",
    "\n",
    "if __name__ == \"__main__\":\n",
    "    main()"
   ]
  },
  {
   "cell_type": "code",
   "execution_count": null,
   "id": "fa53761c",
   "metadata": {},
   "outputs": [],
   "source": [
    "# watch.py:\n",
    "import re\n",
    "\n",
    "\n",
    "def main():\n",
    "    print(parse(input(\"HTML: \").strip()))\n",
    "\n",
    "\n",
    "def parse(s):\n",
    "#a shorter ver. is searching only for the chars after youtube.com/embed/(.+?)\n",
    "#and formating the return string to be \"https://youtu.be...\"\n",
    "    if url := re.search(r\"^.*src=\\\"(.+?)\\\"\", s): # i think this is correct\n",
    "        new_url = url.group(1)\n",
    "        if new_url2 := re.search(r\"^https?://(?:www\\.)?youtube\\.com/embed/(.+)$\", new_url):\n",
    "           final_url = \"https://youtu.be/\" + new_url2.group(1)\n",
    "           return final_url\n",
    "    else: return None\n",
    "\n",
    "\n",
    "if __name__ == \"__main__\":\n",
    "    main()"
   ]
  },
  {
   "cell_type": "markdown",
   "id": "41b5f908",
   "metadata": {},
   "source": [
    "### Working 9 to 5\n",
    "Whereas most countries use a 24-hour clock, the United States tends to use a 12-hour clock. Accordingly, instead of “09:00 to 17:00”, many Americans would say they work “9:00 AM to 5:00 PM” (or “9 AM to 5 PM”), wherein “AM” is an abbreviation for “ante meridiem” and “PM” is an abbreviation for “post meridiem”, wherein “meridiem” means midday (i.e., noon).\n",
    "\n",
    "**Conversion Table**\n",
    "In a file called `working.py`, implement a function called `convert` that expects a `str` in either of the 12-hour formats below and returns the corresponding `str` in 24-hour format (i.e., `9:00 to 17:00`). Expect that `AM` and `PM` will be capitalized (with no periods therein) and that there will be a space before each. Assume that these times are representative of actual times, not necessarily 9:00 AM and 5:00 PM specifically.\n",
    "\n",
    "- `9:00 AM to 5:00 PM`\n",
    "- `9 AM to 5 PM`\n",
    "\n",
    "Raise a `ValueError` instead if the input to `convert` is not in either of those formats or if either time is invalid (e.g., `12:60 AM`, `13:00 PM`, etc.). But do not assume that someone’s hours will start ante meridiem and end post meridiem; someone might work late and even long hours (e.g., `5:00 PM to 9:00 AM`).\n",
    "\n",
    "Structure `working.py` as follows, wherein you’re welcome to modify `main` and/or implement other functions as you see fit, but you may not import any other libraries. You’re welcome, but not required, to use `re` and/or `sys`."
   ]
  },
  {
   "cell_type": "code",
   "execution_count": null,
   "id": "ffb72da1",
   "metadata": {},
   "outputs": [],
   "source": [
    "import re\n",
    "import sys\n",
    "\n",
    "\n",
    "def main():\n",
    "    print(convert(input(\"Hours: \")))\n",
    "\n",
    "\n",
    "def convert(s):\n",
    "    ...\n",
    "\n",
    "\n",
    "...\n",
    "\n",
    "\n",
    "if __name__ == \"__main__\":\n",
    "    main()"
   ]
  },
  {
   "cell_type": "markdown",
   "id": "28b79bfa",
   "metadata": {},
   "source": [
    "Either before or after you implement `convert` in `working.py`, additionally implement, in a file called `test_working.py`, **three or more** functions that collectively test your implementation of `convert` thoroughly, each of whose names should begin with `test_` so that you can execute your tests with:\n",
    "\n",
    "`pytest test_working.py`"
   ]
  },
  {
   "cell_type": "code",
   "execution_count": null,
   "id": "f6f5ab99",
   "metadata": {},
   "outputs": [],
   "source": [
    "# working.py:\n",
    "import re\n",
    "\n",
    "def main():\n",
    "    print(convert(input(\"Hours: \")))\n",
    "\n",
    "\n",
    "def convert(s):\n",
    "    if matches := re.search(r\"^(\\d{1,2}):?(\\d{2})? (AM|PM) to (\\d{1,2}):?(\\d{2})? (AM|PM)$\", s, re.IGNORECASE):\n",
    "\n",
    "        # time 1:\n",
    "        hour1 = int(matches.group(1))\n",
    "        # if 12 AM:\n",
    "        if matches.group(3) == \"AM\" and hour1 == 12:\n",
    "            hour1 -= 12\n",
    "        # if 1-11 PM\n",
    "        if matches.group(3) == \"PM\" and hour1 != 12:\n",
    "            hour1 += 12\n",
    "        # if no minutes\n",
    "        if matches.group(2) == None:\n",
    "            time1 = f\"{hour1:02}:00\"\n",
    "        # if minute >= 60\n",
    "        elif int(matches.group(2)) >= 60:\n",
    "            raise ValueError\n",
    "        else:\n",
    "            time1 = f\"{hour1:02}:{matches.group(2)}\"\n",
    "\n",
    "        # time 2:\n",
    "        hour2 = int(matches.group(4))\n",
    "        #if 12 AM:\n",
    "        if matches.group(6) == \"AM\" and hour2 == 12:\n",
    "            hour2 -= 12\n",
    "        # if 1-12 PM\n",
    "        if matches.group(6) == \"PM\" and hour2 != 12:\n",
    "            hour2 += 12\n",
    "        # if no minutes\n",
    "        if matches.group(5) == None:\n",
    "            time2 = f\"{hour2:02}:00\"\n",
    "        # if minute >= 60\n",
    "        elif int(matches.group(5)) >= 60:\n",
    "            raise ValueError\n",
    "        else:\n",
    "            time2 = f\"{hour2:02}:{matches.group(5)}\"\n",
    "\n",
    "        #return full time:\n",
    "        return f\"{time1} to {time2}\"\n",
    "\n",
    "    else: raise ValueError\n",
    "\n",
    "\n",
    "if __name__ == \"__main__\":\n",
    "    main()"
   ]
  },
  {
   "cell_type": "code",
   "execution_count": null,
   "id": "3b2851bc",
   "metadata": {},
   "outputs": [],
   "source": [
    "# test_working.py\n",
    "from working import convert\n",
    "import pytest\n",
    "\n",
    "def test_convert():\n",
    "    assert convert(\"7 AM to 9 PM\") == \"07:00 to 21:00\"\n",
    "    assert convert(\"12:00 PM to 8:15 PM\") == \"12:00 to 20:15\"\n",
    "    assert convert(\"12:00 AM to 8:15 PM\") == \"00:00 to 20:15\"\n",
    "\n",
    "def test_ValueError():\n",
    "    with pytest.raises(ValueError):\n",
    "        convert(\"7 AM - 9:30 PM\")\n",
    "    with pytest.raises(ValueError):\n",
    "        convert(\"12:60 AM to 11:15 PM\")\n",
    "    with pytest.raises(ValueError):\n",
    "        convert(\"123 AM 4 PM\")"
   ]
  },
  {
   "cell_type": "markdown",
   "id": "4c5249ee",
   "metadata": {},
   "source": [
    "### Regular, um, Expressions\n",
    "It’s not uncommon, in English, at least, to say “um” when trying to, um, think of a word. The more you do it, though, the more noticeable it tends to be!\n",
    "\n",
    "In a file called `um.py`, implement a function called `count` that expects a line of text as input as a `str` and returns, as an `int`, the number of times that “um” appears in that text, case-insensitively, as a word unto itself, not as a substring of some other word. For instance, given text like `hello, um, world`, the function should return `1`. Given text like `yummy`, though, the function should return 0.\n",
    "\n",
    "Structure `um.py` as follows, wherein you’re welcome to modify `main` and/or implement other functions as you see fit, but you may not import any other libraries. You’re welcome, but not required, to use `re` and/or `sys`."
   ]
  },
  {
   "cell_type": "code",
   "execution_count": null,
   "id": "b2f0d252",
   "metadata": {},
   "outputs": [],
   "source": [
    "import re\n",
    "import sys\n",
    "\n",
    "\n",
    "def main():\n",
    "    print(count(input(\"Text: \")))\n",
    "\n",
    "\n",
    "def count(s):\n",
    "    ...\n",
    "\n",
    "\n",
    "...\n",
    "\n",
    "\n",
    "if __name__ == \"__main__\":\n",
    "    main()"
   ]
  },
  {
   "cell_type": "markdown",
   "id": "52ad8f26",
   "metadata": {},
   "source": [
    "Either before or after you implement `count` in `um.py`, additionally implement, in a file called `test_um.py`, **three or more** functions that collectively test your implementation of `count` thoroughly, each of whose names should begin with `test_` so that you can execute your tests with:"
   ]
  },
  {
   "cell_type": "code",
   "execution_count": null,
   "id": "a4d45836",
   "metadata": {},
   "outputs": [],
   "source": [
    "# um.py\n",
    "import re\n",
    "\n",
    "\n",
    "def main():\n",
    "    print(count(input(\"Text: \")))\n",
    "\n",
    "\n",
    "def count(s):\n",
    "    um = re.findall(r\"\\b(um)\\b\", s, re.IGNORECASE)\n",
    "    return len(um)\n",
    "\n",
    "\n",
    "if __name__ == \"__main__\":\n",
    "    main()"
   ]
  },
  {
   "cell_type": "code",
   "execution_count": null,
   "id": "0822cf52",
   "metadata": {},
   "outputs": [],
   "source": [
    "# test_um.py\n",
    "from um import count\n",
    "\n",
    "\n",
    "def test_expressions():\n",
    "    assert count(\"um?!\") == 1\n",
    "    assert count(\"Um, what?\") == 1\n",
    "    assert count(\"Um! Sorry, um?\") == 2\n",
    "\n",
    "def test_other_words():\n",
    "    assert count(\"The rum is, um, tasty, Mum!\") == 1\n",
    "    assert count(\"Summer is around the, um, um, um, corner, Plum!\") == 3"
   ]
  },
  {
   "cell_type": "markdown",
   "id": "bd639030",
   "metadata": {},
   "source": [
    "### Response Validation\n",
    "When creating a Google Form that prompts users for a short answer (or paragraph), it’s possible to enable response validation and require that the user’s input match a regular expression. For instance, you could require that a user input an email address with a regex like this one:\n",
    "\n",
    "``^[a-zA-Z0-9.!#$%&'*+\\/=?^_`{|}~-]+@[a-zA-Z0-9](?:[a-zA-Z0-9-]{0,61}[a-zA-Z0-9])?(?:\\.[a-zA-Z0-9](?:[a-zA-Z0-9-]{0,61}[a-zA-Z0-9])?)*$``\n",
    "\n",
    "Or you could more easily use Google’s built-in support for validating an email address, per the screenshot below, much like you could use a library in your own code.\n",
    "\n",
    "In a file called `response.py`, using either validator-collection or validators from PyPI, implement a program that prompts the user for an email address via `input` and then prints `Valid` or `Invalid`, respectively, if the input is a syntatically valid email address. You may not use `re`. And do not validate whether the email address’s domain name actually exists."
   ]
  },
  {
   "cell_type": "code",
   "execution_count": null,
   "id": "01f25fac",
   "metadata": {},
   "outputs": [],
   "source": [
    "from validator_collection import checkers\n",
    "\n",
    "email = input(\"What's yout email address? \")\n",
    "check_email = checkers.is_email(email)\n",
    "if check_email == True:\n",
    "    print(\"Valid\")\n",
    "else: print(\"Invalid\")"
   ]
  },
  {
   "cell_type": "markdown",
   "id": "0cbcd0e9",
   "metadata": {},
   "source": [
    "# Object-Oriented Programming\n",
    "\n",
    "### CS50 Shirtificate\n",
    "\n",
    "Suppose that you’d like to implement a CS50 “shirtificate,” a PDF with an image of an I took CS50 t-shirt, shirtificate.png, customized with a user’s own name.\n",
    "\n",
    "In a file called `shirtificate.py`, implement a program that prompts the user for their name and outputs, using fpdf2, a CS50 shirtificate in a file called `shirtificate.pdf` similar to this one for John Harvard, with these specifications:\n",
    "\n",
    "- The orientation of the PDF should be Portrait.\n",
    "- The format of the PDF should be A4, which is 210mm wide by 297mm tall.\n",
    "- The top of the PDF should say “CS50 Shirtificate” as text, centered horizontally.\n",
    "- The shirt’s image should be centered horizontally.\n",
    "- The user’s name should be on top of the shirt, in white text.\n",
    "\n",
    "All other details we leave to you. You’re even welcome to add borders, colors, and lines. Your shirtificate needn’t match John Harvard’s precisely. And no need to wrap long names across multiple lines.\n",
    "\n",
    "Before writing any code, do read through fpdf2’s tutorial to learn how to use it. Then skim fpdf2’s API (application programming interface) to see all of its functions and parameters therefor.\n",
    "\n",
    "No need to submit any PDFs with your code. But, if you would like, you’re welcome (but not expected) to share a shirtificate with your name on it in any of CS50’s communities!"
   ]
  },
  {
   "cell_type": "code",
   "execution_count": null,
   "id": "ae913324",
   "metadata": {},
   "outputs": [],
   "source": [
    "from fpdf import FPDF\n",
    "\n",
    "name = input(\"Name: \")\n",
    "pdf = FPDF()\n",
    "pdf.add_page()\n",
    "pdf.set_font(\"helvetica\", \"B\", 45)\n",
    "pdf.cell(0, 60, \"CS50 Shirtificate\", align=\"C\")\n",
    "pdf.image(\"shirtificate.png\", x=0, y=70)\n",
    "pdf.set_font_size(30)\n",
    "pdf.set_text_color(255, 255, 255)\n",
    "pdf.text(x=45, y=150, txt=f\"{name} took CS50\")\n",
    "pdf.output(\"shirtificate.pdf\")"
   ]
  },
  {
   "cell_type": "code",
   "execution_count": null,
   "id": "92cc9b8d",
   "metadata": {},
   "outputs": [],
   "source": []
  }
 ],
 "metadata": {
  "kernelspec": {
   "display_name": "Python 3 (ipykernel)",
   "language": "python",
   "name": "python3"
  },
  "language_info": {
   "codemirror_mode": {
    "name": "ipython",
    "version": 3
   },
   "file_extension": ".py",
   "mimetype": "text/x-python",
   "name": "python",
   "nbconvert_exporter": "python",
   "pygments_lexer": "ipython3",
   "version": "3.9.13"
  }
 },
 "nbformat": 4,
 "nbformat_minor": 5
}
