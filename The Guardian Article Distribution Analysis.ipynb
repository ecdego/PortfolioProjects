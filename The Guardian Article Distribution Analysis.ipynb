{
 "cells": [
  {
   "cell_type": "markdown",
   "id": "f93fbeaf",
   "metadata": {},
   "source": [
    "# The Guardian Article Distribution Analysis\n",
    "\n",
    "Utilized The Guardian's API to get articles from <u>2000 -  present</u> with the keyword \"**Philippines**,\" followed by analysis, with the general goal of looking into the distribution of articles across a period of time and gaining insights into the newspaper's editorial focus.\n",
    "\n",
    "Skills used:\n",
    "- acquired data using API\n",
    "- utilized pandas, matplotlib, nltk and collections libraries\n",
    "- tried a bit of Natural Language Processing\n",
    "- EDA on The Guardian's articles\n",
    "\n",
    "Findings:\n",
    "- The Guardian published the most articles in years **2013 and 2020**. \n",
    "- In 2013, **November** outstandingly saw the most published articles for the year. \n",
    "- In November 2013:\n",
    " - The surge of articles published seems to be because of the **Haiyan Typhoon, or Super Typhoon Yolanda** as known by the Filipino locals, according to an analysis of article headlines published at that time.\n",
    " - Unsurprisingly, the most common sections were **'World news' and 'Environment.'**\n",
    "- In 2020, most articles were published in **February, March and April**.\n",
    "- In Feb.-Apr. 2020:\n",
    " - Upon analysis of the article headlines published, it seems that the high publication rate was because of the **COVID-19 pandemic**.\n",
    " - Majority of the articles were in the **'World news'** section.\n",
    "- Overall, The Guardian's most common news products related to the \"Philippines\" are **articles, followed by liveblogs**. The most common section was overwhelmingly **'World news,' followed distantly by 'Opinion' and 'Environment'**.\n",
    "\n",
    "\n",
    "Further analysis:\n",
    "- An analysis, sentiment analysis for example, of opinion articles about the Philippines, due to the interesting result that 'Opinion' is the second most common article section overall.\n",
    "\n",
    "\n",
    "Data Acquisition adopted from Analyst Adithya's video (https://youtu.be/Nf1U62XxDmU?si=yq4TXr0USzKLca6S)"
   ]
  },
  {
   "cell_type": "code",
   "execution_count": 45,
   "id": "db852b35",
   "metadata": {},
   "outputs": [],
   "source": [
    "# API key: here"
   ]
  },
  {
   "cell_type": "code",
   "execution_count": 4,
   "id": "14446300",
   "metadata": {},
   "outputs": [],
   "source": [
    "url = 'https://content.guardianapis.com/search?q=philippines&from-date=2000&api-key=putHere'"
   ]
  },
  {
   "cell_type": "code",
   "execution_count": 5,
   "id": "f81edd9d",
   "metadata": {},
   "outputs": [],
   "source": [
    "# import libraries\n",
    "\n",
    "import pandas as pd\n",
    "import requests\n",
    "\n",
    "import matplotlib.pyplot as plt\n",
    "from nltk.corpus import stopwords\n",
    "from collections import Counter"
   ]
  },
  {
   "cell_type": "code",
   "execution_count": 6,
   "id": "e307839a",
   "metadata": {
    "scrolled": true
   },
   "outputs": [
    {
     "name": "stdout",
     "output_type": "stream",
     "text": [
      "<Response [200]>\n"
     ]
    }
   ],
   "source": [
    "response = requests.get(url)\n",
    "print(response)"
   ]
  },
  {
   "cell_type": "code",
   "execution_count": 7,
   "id": "8b695256",
   "metadata": {},
   "outputs": [
    {
     "name": "stdout",
     "output_type": "stream",
     "text": [
      "{'response': {'status': 'ok', 'userTier': 'developer', 'total': 8574, 'startIndex': 1, 'pageSize': 10, 'currentPage': 1, 'pages': 858, 'orderBy': 'relevance', 'results': [{'id': 'world/2023/oct/13/ferdinand-marcos-jr-drops-philippines-holiday-marking-toppling-of-father', 'type': 'article', 'sectionId': 'world', 'sectionName': 'World news', 'webPublicationDate': '2023-10-13T11:20:09Z', 'webTitle': 'Ferdinand Marcos Jr drops Philippines holiday marking toppling of father', 'webUrl': 'https://www.theguardian.com/world/2023/oct/13/ferdinand-marcos-jr-drops-philippines-holiday-marking-toppling-of-father', 'apiUrl': 'https://content.guardianapis.com/world/2023/oct/13/ferdinand-marcos-jr-drops-philippines-holiday-marking-toppling-of-father', 'isHosted': False, 'pillarId': 'pillar/news', 'pillarName': 'News'}, {'id': 'world/2023/sep/08/british-australian-man-jailed-in-philippines-claims-authorities-fabricated-evidence', 'type': 'article', 'sectionId': 'world', 'sectionName': 'World news', 'webPublicationDate': '2023-09-08T05:26:14Z', 'webTitle': 'British-Australian man jailed in Philippines claims authorities fabricated evidence', 'webUrl': 'https://www.theguardian.com/world/2023/sep/08/british-australian-man-jailed-in-philippines-claims-authorities-fabricated-evidence', 'apiUrl': 'https://content.guardianapis.com/world/2023/sep/08/british-australian-man-jailed-in-philippines-claims-authorities-fabricated-evidence', 'isHosted': False, 'pillarId': 'pillar/news', 'pillarName': 'News'}, {'id': 'world/2023/aug/06/philippines-accuses-china-of-water-cannon-attack-in-spratly-islands', 'type': 'article', 'sectionId': 'world', 'sectionName': 'World news', 'webPublicationDate': '2023-08-06T04:30:13Z', 'webTitle': 'Philippines accuses China of water cannon attack in Spratly Islands', 'webUrl': 'https://www.theguardian.com/world/2023/aug/06/philippines-accuses-china-of-water-cannon-attack-in-spratly-islands', 'apiUrl': 'https://content.guardianapis.com/world/2023/aug/06/philippines-accuses-china-of-water-cannon-attack-in-spratly-islands', 'isHosted': False, 'pillarId': 'pillar/news', 'pillarName': 'News'}, {'id': 'world/2023/aug/08/china-philippines-dispute-could-escalate-into-superpower-conflict-say-analysts', 'type': 'article', 'sectionId': 'world', 'sectionName': 'World news', 'webPublicationDate': '2023-08-08T10:23:42Z', 'webTitle': 'China-Philippines dispute could escalate into superpower conflict, say analysts', 'webUrl': 'https://www.theguardian.com/world/2023/aug/08/china-philippines-dispute-could-escalate-into-superpower-conflict-say-analysts', 'apiUrl': 'https://content.guardianapis.com/world/2023/aug/08/china-philippines-dispute-could-escalate-into-superpower-conflict-say-analysts', 'isHosted': False, 'pillarId': 'pillar/news', 'pillarName': 'News'}, {'id': 'football/2023/jul/30/norway-haug-philippines-womens-world-cup-match-report', 'type': 'article', 'sectionId': 'football', 'sectionName': 'Football', 'webPublicationDate': '2023-07-30T10:10:47Z', 'webTitle': 'Norway squeak into knockout stage as Haug thrills in Philippines thrashing', 'webUrl': 'https://www.theguardian.com/football/2023/jul/30/norway-haug-philippines-womens-world-cup-match-report', 'apiUrl': 'https://content.guardianapis.com/football/2023/jul/30/norway-haug-philippines-womens-world-cup-match-report', 'isHosted': False, 'pillarId': 'pillar/sport', 'pillarName': 'Sport'}, {'id': 'sport/live/2023/jul/30/norway-v-philippines-womens-world-cup-2023-live', 'type': 'liveblog', 'sectionId': 'sport', 'sectionName': 'Sport', 'webPublicationDate': '2023-07-30T10:09:26Z', 'webTitle': 'Norway 6-0 Philippines: Women’s World Cup 2023 – as it happened', 'webUrl': 'https://www.theguardian.com/sport/live/2023/jul/30/norway-v-philippines-womens-world-cup-2023-live', 'apiUrl': 'https://content.guardianapis.com/sport/live/2023/jul/30/norway-v-philippines-womens-world-cup-2023-live', 'isHosted': False, 'pillarId': 'pillar/sport', 'pillarName': 'Sport'}, {'id': 'football/live/2023/jul/25/new-zealand-v-philippines-womens-world-cup-2023-live-updates-scores-results-lineups-where-to-watch-how-7plus-optus-sport', 'type': 'liveblog', 'sectionId': 'football', 'sectionName': 'Football', 'webPublicationDate': '2023-07-25T07:43:48Z', 'webTitle': 'New Zealand 0-1 Philippines: Women’s World Cup 2023 – as it happened', 'webUrl': 'https://www.theguardian.com/football/live/2023/jul/25/new-zealand-v-philippines-womens-world-cup-2023-live-updates-scores-results-lineups-where-to-watch-how-7plus-optus-sport', 'apiUrl': 'https://content.guardianapis.com/football/live/2023/jul/25/new-zealand-v-philippines-womens-world-cup-2023-live-updates-scores-results-lineups-where-to-watch-how-7plus-optus-sport', 'isHosted': False, 'pillarId': 'pillar/sport', 'pillarName': 'Sport'}, {'id': 'environment/2023/may/22/weather-tracker-guam-philippines-brace-typhoon-mawar', 'type': 'article', 'sectionId': 'environment', 'sectionName': 'Environment', 'webPublicationDate': '2023-05-22T10:05:48Z', 'webTitle': 'Weather tracker: Guam and Philippines brace for Typhoon Mawar', 'webUrl': 'https://www.theguardian.com/environment/2023/may/22/weather-tracker-guam-philippines-brace-typhoon-mawar', 'apiUrl': 'https://content.guardianapis.com/environment/2023/may/22/weather-tracker-guam-philippines-brace-typhoon-mawar', 'isHosted': False, 'pillarId': 'pillar/news', 'pillarName': 'News'}, {'id': 'football/2023/jul/30/ex-matildas-coach-alen-stajcic-is-taking-the-philippines-to-new-heights', 'type': 'article', 'sectionId': 'football', 'sectionName': 'Football', 'webPublicationDate': '2023-07-29T20:00:05Z', 'webTitle': 'Ex-Matildas coach Alen Stajcic is taking the Philippines to new heights | Kieran Pender', 'webUrl': 'https://www.theguardian.com/football/2023/jul/30/ex-matildas-coach-alen-stajcic-is-taking-the-philippines-to-new-heights', 'apiUrl': 'https://content.guardianapis.com/football/2023/jul/30/ex-matildas-coach-alen-stajcic-is-taking-the-philippines-to-new-heights', 'isHosted': False, 'pillarId': 'pillar/sport', 'pillarName': 'Sport'}, {'id': 'world/2023/jul/28/philippines-ferry-capsizes-death-toll-typhoon-doksuri-winds', 'type': 'article', 'sectionId': 'world', 'sectionName': 'World news', 'webPublicationDate': '2023-07-28T02:18:22Z', 'webTitle': 'Philippines: 26 people killed after overloaded ferry capsizes amid Typhoon Doksuri winds', 'webUrl': 'https://www.theguardian.com/world/2023/jul/28/philippines-ferry-capsizes-death-toll-typhoon-doksuri-winds', 'apiUrl': 'https://content.guardianapis.com/world/2023/jul/28/philippines-ferry-capsizes-death-toll-typhoon-doksuri-winds', 'isHosted': False, 'pillarId': 'pillar/news', 'pillarName': 'News'}]}}\n"
     ]
    }
   ],
   "source": [
    "# json\n",
    "\n",
    "x = response.json()\n",
    "print(x)"
   ]
  },
  {
   "cell_type": "code",
   "execution_count": 8,
   "id": "0e00d8d8",
   "metadata": {},
   "outputs": [],
   "source": [
    "# loop through all pages\n",
    "\n",
    "urllist = []\n",
    "\n",
    "for i in range(1,857):\n",
    "    a = 'https://content.guardianapis.com/search?q=philippines&from-date=2000&api-key=putHere&page='\n",
    "    b = str(i)\n",
    "    c = a+b\n",
    "    urllist.append(c)\n",
    "\n",
    "urllist;"
   ]
  },
  {
   "cell_type": "code",
   "execution_count": 9,
   "id": "3bd3efd0",
   "metadata": {},
   "outputs": [],
   "source": [
    "# function to read all the urls in urllist into json\n",
    "\n",
    "info = []\n",
    "\n",
    "def json(url1):\n",
    "    response = requests.get(url1)\n",
    "    x = response.json()\n",
    "    info.append(x)"
   ]
  },
  {
   "cell_type": "code",
   "execution_count": 10,
   "id": "837d3677",
   "metadata": {},
   "outputs": [],
   "source": [
    "# run json function in all url\n",
    "\n",
    "output = [json(url1) for url1 in urllist]"
   ]
  },
  {
   "cell_type": "code",
   "execution_count": 11,
   "id": "f49191e8",
   "metadata": {},
   "outputs": [],
   "source": [
    "info;"
   ]
  },
  {
   "cell_type": "code",
   "execution_count": 12,
   "id": "4b412372",
   "metadata": {},
   "outputs": [
    {
     "data": {
      "text/plain": [
       "858"
      ]
     },
     "execution_count": 12,
     "metadata": {},
     "output_type": "execute_result"
    }
   ],
   "source": [
    "# finding total number of pages\n",
    "info[0]['response']['pages']"
   ]
  },
  {
   "cell_type": "code",
   "execution_count": 13,
   "id": "b7ffd146",
   "metadata": {},
   "outputs": [
    {
     "data": {
      "text/plain": [
       "'Philippines: 26 people killed after overloaded ferry capsizes amid Typhoon Doksuri winds'"
      ]
     },
     "execution_count": 13,
     "metadata": {},
     "output_type": "execute_result"
    }
   ],
   "source": [
    "# getting result of the 10th latest article headline\n",
    "info[0]['response']['results'][9]['webTitle']"
   ]
  },
  {
   "cell_type": "code",
   "execution_count": 14,
   "id": "c7e55dc8",
   "metadata": {},
   "outputs": [
    {
     "name": "stdout",
     "output_type": "stream",
     "text": [
      "done\n"
     ]
    }
   ],
   "source": [
    "# looping through all the articles to get specific info for analysis\n",
    "\n",
    "finallist = []\n",
    "\n",
    "try:\n",
    "    for page in range(0,857):\n",
    "        for article in range (0, 10):\n",
    "            value = dict(\n",
    "            webtitle = info[page]['response']['results'][article]['webTitle'],\n",
    "            sectionname = info[page]['response']['results'][article]['sectionName'],\n",
    "            pubdate = info[page]['response']['results'][article]['webPublicationDate'],\n",
    "            type = info[page]['response']['results'][article]['type']\n",
    "            )\n",
    "            finallist.append(value)\n",
    "except IndexError:\n",
    "    print('done')"
   ]
  },
  {
   "cell_type": "code",
   "execution_count": 15,
   "id": "58c7f98b",
   "metadata": {},
   "outputs": [],
   "source": [
    "finallist;"
   ]
  },
  {
   "cell_type": "code",
   "execution_count": 16,
   "id": "13dd3425",
   "metadata": {},
   "outputs": [],
   "source": [
    "# make 'finallist' into DataFrame\n",
    "\n",
    "newdata = pd.DataFrame(finallist)\n",
    "newdata;"
   ]
  },
  {
   "cell_type": "code",
   "execution_count": 17,
   "id": "8e43d67b",
   "metadata": {},
   "outputs": [],
   "source": [
    "# remove time in pubdate\n",
    "\n",
    "newdata['pubdate'] = newdata['pubdate'].str.split('T').str[0]\n",
    "\n",
    "newdata;"
   ]
  },
  {
   "cell_type": "markdown",
   "id": "d98920b4",
   "metadata": {},
   "source": [
    "# ANALYSIS"
   ]
  },
  {
   "cell_type": "code",
   "execution_count": 18,
   "id": "10465748",
   "metadata": {},
   "outputs": [],
   "source": [
    "# convert 'pubdate' to datetime\n",
    "newdata['pubdate'] = pd.to_datetime(newdata['pubdate'])\n",
    "\n",
    "newdata;"
   ]
  },
  {
   "cell_type": "markdown",
   "id": "3bfc2e45",
   "metadata": {},
   "source": [
    "## Published articles by year and month"
   ]
  },
  {
   "cell_type": "code",
   "execution_count": 16,
   "id": "138430ff",
   "metadata": {},
   "outputs": [
    {
     "name": "stdout",
     "output_type": "stream",
     "text": [
      "pubdate  pubdate  \n",
      "2000     April        24\n",
      "         August       22\n",
      "         December     20\n",
      "         February      9\n",
      "         January       7\n",
      "                      ..\n",
      "2023     June         17\n",
      "         March        31\n",
      "         May          31\n",
      "         October      40\n",
      "         September    63\n",
      "Name: pubdate, Length: 286, dtype: int64\n"
     ]
    }
   ],
   "source": [
    "# group and count the number of articles by year and month\n",
    "date_count = newdata.groupby([newdata['pubdate'].dt.year, newdata['pubdate'].dt.month_name()])['pubdate'].count()\n",
    "\n",
    "print(date_count)"
   ]
  },
  {
   "cell_type": "code",
   "execution_count": 17,
   "id": "53a2f200",
   "metadata": {},
   "outputs": [
    {
     "name": "stdout",
     "output_type": "stream",
     "text": [
      "2000    220\n",
      "2001    286\n",
      "2002    250\n",
      "2003    244\n",
      "2004    246\n",
      "2005    216\n",
      "2006    228\n",
      "2007    267\n",
      "2008    264\n",
      "2009    232\n",
      "2010    201\n",
      "2011    284\n",
      "2012    295\n",
      "2013    608\n",
      "2014    506\n",
      "2015    566\n",
      "2016    547\n",
      "2017    423\n",
      "2018    356\n",
      "2019    391\n",
      "2020    673\n",
      "2021    530\n",
      "2022    363\n",
      "2023    364\n",
      "Name: pubdate, dtype: int64\n"
     ]
    }
   ],
   "source": [
    "# count articles published per year, sort the index to be chronological\n",
    "\n",
    "year_count = newdata['pubdate'].dt.year.value_counts().sort_index()\n",
    "\n",
    "print(year_count)"
   ]
  },
  {
   "cell_type": "code",
   "execution_count": 18,
   "id": "41a91e33",
   "metadata": {},
   "outputs": [
    {
     "data": {
      "image/png": "[encoded data removed]",
      "text/plain": [
       "<Figure size 1500x500 with 1 Axes>"
      ]
     },
     "metadata": {},
     "output_type": "display_data"
    }
   ],
   "source": [
    "# create a line graph to present above data\n",
    "\n",
    "plt.figure(figsize=(15, 5))\n",
    "plt.plot(year_count.index, year_count.values, marker='o')\n",
    "plt.title('Total Articles per Year')\n",
    "plt.xlabel('Year')\n",
    "plt.ylabel('Articles Published')\n",
    "plt.grid(True)\n",
    "plt.xticks(year_count.index)\n",
    "\n",
    "plt.show()"
   ]
  },
  {
   "cell_type": "markdown",
   "id": "e3944415",
   "metadata": {},
   "source": [
    "### Investigate the rise of articles published in 2013"
   ]
  },
  {
   "cell_type": "code",
   "execution_count": 19,
   "id": "c126875a",
   "metadata": {},
   "outputs": [
    {
     "name": "stdout",
     "output_type": "stream",
     "text": [
      "1      42\n",
      "2      48\n",
      "3      30\n",
      "4      19\n",
      "5      31\n",
      "6      35\n",
      "7      26\n",
      "8      30\n",
      "9      33\n",
      "10     43\n",
      "11    213\n",
      "12     58\n",
      "Name: pubdate, dtype: int64\n"
     ]
    }
   ],
   "source": [
    "# publication count per month in 2013\n",
    "\n",
    "# filter 2013\n",
    "\n",
    "yr_2013 = newdata[newdata['pubdate'].dt.year == 2013]\n",
    "\n",
    "month_count_2013 = yr_2013['pubdate'].dt.month.value_counts().sort_index()\n",
    "\n",
    "print(month_count_2013)"
   ]
  },
  {
   "cell_type": "code",
   "execution_count": 20,
   "id": "7e4431b2",
   "metadata": {},
   "outputs": [
    {
     "data": {
      "image/png": "[encoded data removed]",
      "text/plain": [
       "<Figure size 640x480 with 1 Axes>"
      ]
     },
     "metadata": {},
     "output_type": "display_data"
    }
   ],
   "source": [
    "# create a bar graph to present above data\n",
    "\n",
    "plt.bar(month_count_2013.index, month_count_2013.values)\n",
    "plt.title('Total Articles per Month in 2013')\n",
    "plt.xlabel('Month')\n",
    "plt.ylabel('Articles Published')\n",
    "plt.grid(axis='y')\n",
    "\n",
    "# change x-axis to month names\n",
    "month_names = ['January', 'February', 'March', 'April', 'May', 'June', 'July', 'August', 'September', 'October', 'November', 'December']\n",
    "plt.xticks(range(1, 13), month_names, rotation=45)\n",
    "\n",
    "plt.show()"
   ]
  },
  {
   "cell_type": "markdown",
   "id": "7c977c86",
   "metadata": {},
   "source": [
    "### Identify the most common topic of articles published in Nov. 2013\n"
   ]
  },
  {
   "cell_type": "code",
   "execution_count": 27,
   "id": "bdc1ad3d",
   "metadata": {},
   "outputs": [],
   "source": [
    "# filter articles for November 2013\n",
    "nov2013 = newdata[(newdata['pubdate'].dt.year == 2013) & (newdata['pubdate'].dt.month == 11)]"
   ]
  },
  {
   "cell_type": "code",
   "execution_count": 28,
   "id": "448d9190",
   "metadata": {},
   "outputs": [
    {
     "name": "stdout",
     "output_type": "stream",
     "text": [
      "[('typhoon', 96), ('haiyan', 50), ('philippines', 46), ('haiyan:', 44), ('climate', 36), ('change', 21), ('aid', 13), ('video', 13), ('disaster', 12), ('survivors', 10)]\n"
     ]
    }
   ],
   "source": [
    "# most common words used in headline\n",
    "\n",
    "cus_stopwords = stopwords.words('english') + ['says', 'say']\n",
    "\n",
    "# function to preprocess and count words\n",
    "\n",
    "def word_count(text):\n",
    "    # split webtitle into words\n",
    "    words = text.split()\n",
    "\n",
    "    # remove punctuations, covert to lowercase\n",
    "    words = [word.strip(' .,-–!?(){}[]\"\\'|/').lower() for word in words]\n",
    "    \n",
    "    # remove stopwords\n",
    "    words = [word for word in words if word not in cus_stopwords]\n",
    "    \n",
    "    # filter empty strings\n",
    "    words = [word for word in words if word]\n",
    "    \n",
    "    # count words\n",
    "    word_count = Counter(words)\n",
    "    \n",
    "    return word_count\n",
    "\n",
    "\n",
    "# apply function\n",
    "words_count = nov2013['webtitle'].apply(word_count)\n",
    "\n",
    "# combine word counts from all rows\n",
    "combined_counts = words_count.sum()\n",
    "\n",
    "# get most common words\n",
    "common_words = combined_counts.most_common()\n",
    "\n",
    "# print\n",
    "print(common_words[:10])"
   ]
  },
  {
   "cell_type": "code",
   "execution_count": 29,
   "id": "a03948bf",
   "metadata": {},
   "outputs": [
    {
     "name": "stdout",
     "output_type": "stream",
     "text": [
      "article     174\n",
      "liveblog     15\n",
      "video        13\n",
      "gallery       8\n",
      "picture       3\n",
      "Name: type, dtype: int64\n"
     ]
    }
   ],
   "source": [
    "# type count\n",
    "\n",
    "type_count = nov2013['type'].value_counts()\n",
    "\n",
    "print(type_count)"
   ]
  },
  {
   "cell_type": "code",
   "execution_count": 36,
   "id": "69666ee7",
   "metadata": {},
   "outputs": [
    {
     "name": "stdout",
     "output_type": "stream",
     "text": [
      "World news                                  88\n",
      "Environment                                 26\n",
      "Global development                          16\n",
      "Opinion                                     13\n",
      "Guardian Sustainable Business               11\n",
      "Technology                                   6\n",
      "Politics                                     6\n",
      "News                                         5\n",
      "Society                                      5\n",
      "Voluntary Sector Network                     5\n",
      "Travel                                       4\n",
      "Working in development                       4\n",
      "Sport                                        4\n",
      "Australia news                               3\n",
      "Science                                      2\n",
      "Fashion                                      2\n",
      "Global                                       2\n",
      "Global Development Professionals Network     2\n",
      "Public Leaders Network                       1\n",
      "Games                                        1\n",
      "Music                                        1\n",
      "Life and style                               1\n",
      "US news                                      1\n",
      "Media                                        1\n",
      "Art and design                               1\n",
      "Teacher Network                              1\n",
      "Football                                     1\n",
      "Name: sectionname, dtype: int64\n"
     ]
    }
   ],
   "source": [
    "# section count for Nov. 2013 articles\n",
    "\n",
    "section_count = nov2013['sectionname'].value_counts()\n",
    "\n",
    "print(section_count)"
   ]
  },
  {
   "cell_type": "markdown",
   "id": "522203f3",
   "metadata": {},
   "source": [
    "### Investigate the rise of published articles in 2020"
   ]
  },
  {
   "cell_type": "code",
   "execution_count": 25,
   "id": "38bf793f",
   "metadata": {},
   "outputs": [
    {
     "name": "stdout",
     "output_type": "stream",
     "text": [
      "1     26\n",
      "2     92\n",
      "3     78\n",
      "4     90\n",
      "5     55\n",
      "6     51\n",
      "7     47\n",
      "8     45\n",
      "9     55\n",
      "10    43\n",
      "11    41\n",
      "12    50\n",
      "Name: pubdate, dtype: int64\n"
     ]
    }
   ],
   "source": [
    "# publication count per month in 2020\n",
    "\n",
    "# filter 2020\n",
    "\n",
    "yr_2020 = newdata[newdata['pubdate'].dt.year == 2020]\n",
    "\n",
    "month_count_2020 = yr_2020['pubdate'].dt.month.value_counts().sort_index()\n",
    "\n",
    "print(month_count_2020)"
   ]
  },
  {
   "cell_type": "code",
   "execution_count": 26,
   "id": "3e7abdae",
   "metadata": {},
   "outputs": [
    {
     "data": {
      "image/png": "[encoded data removed]",
      "text/plain": [
       "<Figure size 640x480 with 1 Axes>"
      ]
     },
     "metadata": {},
     "output_type": "display_data"
    }
   ],
   "source": [
    "# create a bar graph to present above data\n",
    "\n",
    "plt.bar(month_count_2020.index, month_count_2020.values)\n",
    "plt.title('Total Articles per Month in 2020')\n",
    "plt.xlabel('Month')\n",
    "plt.ylabel('Articles Published')\n",
    "plt.grid(axis='y')\n",
    "\n",
    "# change x-axis to month names\n",
    "month_names = ['January', 'February', 'March', 'April', 'May', 'June', 'July', 'August', 'September', 'October', 'November', 'December']\n",
    "plt.xticks(range(1, 13), month_names, rotation=45)\n",
    "\n",
    "plt.show()"
   ]
  },
  {
   "cell_type": "markdown",
   "id": "ac4adff6",
   "metadata": {},
   "source": [
    "### Investigate the rise of published articles in Februrary - April 2020"
   ]
  },
  {
   "cell_type": "code",
   "execution_count": 32,
   "id": "5a0bb91c",
   "metadata": {},
   "outputs": [],
   "source": [
    "# filter articles for Feb-April 2020\n",
    "f_a2020 = newdata[(newdata['pubdate'].dt.year == 2020) & (newdata['pubdate'].dt.month.isin([2, 3, 4]))]"
   ]
  },
  {
   "cell_type": "code",
   "execution_count": 33,
   "id": "31004fbd",
   "metadata": {},
   "outputs": [
    {
     "name": "stdout",
     "output_type": "stream",
     "text": [
      "article     174\n",
      "liveblog     15\n",
      "video        13\n",
      "gallery       8\n",
      "picture       3\n",
      "Name: type, dtype: int64\n"
     ]
    }
   ],
   "source": [
    "# type count\n",
    "\n",
    "type_count = nov2013['type'].value_counts()\n",
    "\n",
    "print(type_count)"
   ]
  },
  {
   "cell_type": "code",
   "execution_count": 35,
   "id": "4d08e363",
   "metadata": {},
   "outputs": [
    {
     "name": "stdout",
     "output_type": "stream",
     "text": [
      "World news            181\n",
      "Global development     14\n",
      "Australia news         13\n",
      "Environment             8\n",
      "Opinion                 7\n",
      "US news                 6\n",
      "Business                4\n",
      "Politics                3\n",
      "Science                 2\n",
      "Football                2\n",
      "Travel                  2\n",
      "Society                 2\n",
      "Stage                   1\n",
      "Culture                 1\n",
      "Film                    1\n",
      "Food                    1\n",
      "Fashion                 1\n",
      "Books                   1\n",
      "Animals farmed          1\n",
      "Community               1\n",
      "UK news                 1\n",
      "Law                     1\n",
      "Games                   1\n",
      "Global                  1\n",
      "Sport                   1\n",
      "Media                   1\n",
      "Money                   1\n",
      "News                    1\n",
      "Name: sectionname, dtype: int64\n"
     ]
    }
   ],
   "source": [
    "# section count for Feb-April 2020 articles\n",
    "\n",
    "section_count2020 = f_a2020['sectionname'].value_counts()\n",
    "\n",
    "print(section_count2020)"
   ]
  },
  {
   "cell_type": "code",
   "execution_count": 40,
   "id": "4b94f10d",
   "metadata": {},
   "outputs": [
    {
     "name": "stdout",
     "output_type": "stream",
     "text": [
      "[('coronavirus', 78), ('covid-19', 31), ('coronavirus:', 29), ('cases', 28), ('china', 27), ('uk', 25), ('us', 22), ('death', 17), ('glance', 16), ('confirmed', 15)]\n"
     ]
    }
   ],
   "source": [
    "# most common words used in headline\n",
    "\n",
    "cus_stopwords = stopwords.words('english') + ['says', 'say', 'happened']\n",
    "\n",
    "# apply word_count function\n",
    "words_count2020 = f_a2020['webtitle'].apply(word_count)\n",
    "\n",
    "# combine word counts from all rows\n",
    "combined_counts2020 = words_count2020.sum()\n",
    "\n",
    "# get most common words\n",
    "common_words2020 = combined_counts2020.most_common()\n",
    "\n",
    "# print\n",
    "print(common_words2020[:10])"
   ]
  },
  {
   "cell_type": "markdown",
   "id": "3ba9aef9",
   "metadata": {},
   "source": [
    "# Analysis of ALL articles acquired"
   ]
  },
  {
   "cell_type": "code",
   "execution_count": 41,
   "id": "6e76141f",
   "metadata": {},
   "outputs": [
    {
     "name": "stdout",
     "output_type": "stream",
     "text": [
      "article        7662\n",
      "liveblog        757\n",
      "video            50\n",
      "gallery          48\n",
      "picture          37\n",
      "interactive       5\n",
      "audio             1\n",
      "Name: type, dtype: int64\n"
     ]
    }
   ],
   "source": [
    "# type count\n",
    "\n",
    "type_count_all = newdata['type'].value_counts()\n",
    "\n",
    "print(type_count_all)"
   ]
  },
  {
   "cell_type": "code",
   "execution_count": 42,
   "id": "32d47bb6",
   "metadata": {},
   "outputs": [
    {
     "name": "stdout",
     "output_type": "stream",
     "text": [
      "World news                          2708\n",
      "Opinion                              587\n",
      "Environment                          523\n",
      "Global development                   402\n",
      "US news                              346\n",
      "                                    ... \n",
      "Animals farmed                         1\n",
      "What's possible? Ask Toronto           1\n",
      "Guardian Masterclasses Australia       1\n",
      "Community                              1\n",
      "Freshers week                          1\n",
      "Name: sectionname, Length: 73, dtype: int64\n"
     ]
    }
   ],
   "source": [
    "# section count\n",
    "\n",
    "section_count_all = newdata['sectionname'].value_counts()\n",
    "\n",
    "print(section_count_all)"
   ]
  },
  {
   "cell_type": "code",
   "execution_count": 44,
   "id": "531722a0",
   "metadata": {},
   "outputs": [
    {
     "name": "stdout",
     "output_type": "stream",
     "text": [
      "[('philippines', 533), ('new', 392), ('world', 390), ('us', 378), ('china', 285), ('uk', 250), ('climate', 210), ('global', 208), ('typhoon', 192), ('trump', 160), ('war', 155), ('review', 146), ('coronavirus', 144), ('cases', 143), ('death', 125), ('day', 123), ('workers', 122), ('covid', 122), ('change', 119), ('first', 118)]\n"
     ]
    }
   ],
   "source": [
    "# headline word count\n",
    "\n",
    "# most common words used in headline\n",
    "\n",
    "cus_stopwords = stopwords.words('english') + ['says', 'say', 'happened']\n",
    "\n",
    "# apply word_count function\n",
    "words_count_all = newdata['webtitle'].apply(word_count)\n",
    "\n",
    "# combine word counts from all rows\n",
    "combined_count_all = words_count_all.sum()\n",
    "\n",
    "# get most common words\n",
    "common_words_all = combined_count_all.most_common()\n",
    "\n",
    "# print\n",
    "print(common_words_all[:20])"
   ]
  }
 ],
 "metadata": {
  "kernelspec": {
   "display_name": "Python 3 (ipykernel)",
   "language": "python",
   "name": "python3"
  },
  "language_info": {
   "codemirror_mode": {
    "name": "ipython",
    "version": 3
   },
   "file_extension": ".py",
   "mimetype": "text/x-python",
   "name": "python",
   "nbconvert_exporter": "python",
   "pygments_lexer": "ipython3",
   "version": "3.9.13"
  }
 },
 "nbformat": 4,
 "nbformat_minor": 5
}
